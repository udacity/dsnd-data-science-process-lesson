{
 "cells": [
  {
   "cell_type": "markdown",
   "id": "be06b5f4",
   "metadata": {},
   "source": [
    "# Multiple Linear Regression Exercise\n",
    "\n",
    "The goal with the walk through is to introduce you to the [scikit-learn](https://scikit-learn.org/stable/) environment for *predictive* modeling.\n",
    "\n",
    "At the end of this, you should be comfortable with basics of scikit-learn model instantiation, training, and predicting."
   ]
  },
  {
   "cell_type": "markdown",
   "id": "ca1cc3e5",
   "metadata": {},
   "source": [
    "You have been asked by HR to help them come up with a model for salaries for new position your company is hiring for. Let's follow the steps of the [CRISP-DM](https://en.wikipedia.org/wiki/Cross-industry_standard_process_for_data_mining) process.    "
   ]
  },
  {
   "cell_type": "markdown",
   "id": "a556cc49",
   "metadata": {},
   "source": [
    "### Business Understanding\n",
    "\n",
    "Fortunately, this is pretty straight forward: how much to pay people?"
   ]
  },
  {
   "cell_type": "markdown",
   "id": "250bfdaa",
   "metadata": {},
   "source": [
    "### Data Understanding\n",
    "\n",
    "We are going to take a short-cut, and use a pre-prepared data set from the most recent [Stack OverFlow Developers Survey](https://survey.stackoverflow.co/2024/) from 2024. Here is, however the data dictionary:\n",
    "\n",
    "| **Column**  | **Data Type** | **Description**                        |\n",
    "|-------------|---------------|----------------------------------------|\n",
    "| Age         | object        | The age binned into several categories |\n",
    "| RemoteWork  | object        | What kind of remote work               |\n",
    "| EdLevel     | object        | Education level                        |\n",
    "| YearsCode   | int64         | How many years coding                  |\n",
    "| primaryDB   | object        | Primary Database Used                  |\n",
    "| primaryLang | object        | Primary language used                  |\n",
    "| Salary      | float64       | Salary in USD                          |\n",
    "\n",
    "Looking at this, it is obvious that we are going to need to create dummy variables for most of these columns."
   ]
  },
  {
   "cell_type": "markdown",
   "id": "1806ac31",
   "metadata": {},
   "source": [
    "### Data Preparation\n",
    "\n",
    "Again, this has been done for you, to facilitate this exercise. The one additional step we will use is [`pd.get_dummies`](https://pandas.pydata.org/docs/reference/api/pandas.get_dummies.html) to turn the object columns into numeric variables."
   ]
  },
  {
   "cell_type": "markdown",
   "id": "80ec405e",
   "metadata": {},
   "source": [
    "### .Modeling\n",
    "\n",
    "We will be using [`LinearRegression`](https://scikit-learn.org/stable/modules/generated/sklearn.linear_model.LinearRegression.html) for our model"
   ]
  },
  {
   "cell_type": "markdown",
   "id": "2830b256",
   "metadata": {},
   "source": [
    "### Evaluation\n",
    "\n",
    "We will look at two metrics to determine how effective our model is for predictive purposes.\n",
    "\n",
    "1. [$r^2$ score](https://scikit-learn.org/stable/modules/generated/sklearn.metrics.r2_score.html)\n",
    "2. [mean squared error](https://scikit-learn.org/stable/modules/generated/sklearn.metrics.mean_squared_error.html)\n",
    "\n"
   ]
  },
  {
   "cell_type": "markdown",
   "id": "f32913d4",
   "metadata": {},
   "source": [
    "### Deployment\n",
    "\n",
    "For our purposes, deployment will be completing this notebook, and successfully predicting a salary."
   ]
  },
  {
   "cell_type": "markdown",
   "id": "b05db414",
   "metadata": {},
   "source": [
    "# Data import and examination and preparation\n",
    "\n",
    "Ready? Excellent, let's get to the code!"
   ]
  },
  {
   "cell_type": "code",
   "execution_count": 1,
   "id": "e6a091eb",
   "metadata": {
    "ExecuteTime": {
     "end_time": "2024-08-25T22:04:27.897896Z",
     "start_time": "2024-08-25T22:04:27.537853Z"
    }
   },
   "outputs": [],
   "source": [
    "# imports\n",
    "# best practice is to keep all the imports in one cell, at the top of your notebook or script\n",
    "\n",
    "import pandas as pd\n",
    "\n",
    "from sklearn.linear_model import LinearRegression\n",
    "from sklearn.metrics import r2_score, mean_squared_error"
   ]
  },
  {
   "cell_type": "code",
   "execution_count": 2,
   "id": "f62bccb8",
   "metadata": {
    "ExecuteTime": {
     "end_time": "2024-08-25T22:17:14.996117Z",
     "start_time": "2024-08-25T22:17:14.950087Z"
    }
   },
   "outputs": [
    {
     "ename": "FileNotFoundError",
     "evalue": "[Errno 2] No such file or directory: 'cleanedSO.csv'",
     "output_type": "error",
     "traceback": [
      "\u001b[1;31m---------------------------------------------------------------------------\u001b[0m",
      "\u001b[1;31mFileNotFoundError\u001b[0m                         Traceback (most recent call last)",
      "Cell \u001b[1;32mIn[2], line 3\u001b[0m\n\u001b[0;32m      1\u001b[0m \u001b[38;5;66;03m# Bring the prepared data in\u001b[39;00m\n\u001b[1;32m----> 3\u001b[0m df \u001b[38;5;241m=\u001b[39m \u001b[43mpd\u001b[49m\u001b[38;5;241;43m.\u001b[39;49m\u001b[43mread_csv\u001b[49m\u001b[43m(\u001b[49m\u001b[38;5;124;43m'\u001b[39;49m\u001b[38;5;124;43mcleanedSO.csv\u001b[39;49m\u001b[38;5;124;43m'\u001b[39;49m\u001b[43m)\u001b[49m\n",
      "File \u001b[1;32mD:\\Python311\\Lib\\site-packages\\pandas\\io\\parsers\\readers.py:1026\u001b[0m, in \u001b[0;36mread_csv\u001b[1;34m(filepath_or_buffer, sep, delimiter, header, names, index_col, usecols, dtype, engine, converters, true_values, false_values, skipinitialspace, skiprows, skipfooter, nrows, na_values, keep_default_na, na_filter, verbose, skip_blank_lines, parse_dates, infer_datetime_format, keep_date_col, date_parser, date_format, dayfirst, cache_dates, iterator, chunksize, compression, thousands, decimal, lineterminator, quotechar, quoting, doublequote, escapechar, comment, encoding, encoding_errors, dialect, on_bad_lines, delim_whitespace, low_memory, memory_map, float_precision, storage_options, dtype_backend)\u001b[0m\n\u001b[0;32m   1013\u001b[0m kwds_defaults \u001b[38;5;241m=\u001b[39m _refine_defaults_read(\n\u001b[0;32m   1014\u001b[0m     dialect,\n\u001b[0;32m   1015\u001b[0m     delimiter,\n\u001b[1;32m   (...)\u001b[0m\n\u001b[0;32m   1022\u001b[0m     dtype_backend\u001b[38;5;241m=\u001b[39mdtype_backend,\n\u001b[0;32m   1023\u001b[0m )\n\u001b[0;32m   1024\u001b[0m kwds\u001b[38;5;241m.\u001b[39mupdate(kwds_defaults)\n\u001b[1;32m-> 1026\u001b[0m \u001b[38;5;28;01mreturn\u001b[39;00m \u001b[43m_read\u001b[49m\u001b[43m(\u001b[49m\u001b[43mfilepath_or_buffer\u001b[49m\u001b[43m,\u001b[49m\u001b[43m \u001b[49m\u001b[43mkwds\u001b[49m\u001b[43m)\u001b[49m\n",
      "File \u001b[1;32mD:\\Python311\\Lib\\site-packages\\pandas\\io\\parsers\\readers.py:620\u001b[0m, in \u001b[0;36m_read\u001b[1;34m(filepath_or_buffer, kwds)\u001b[0m\n\u001b[0;32m    617\u001b[0m _validate_names(kwds\u001b[38;5;241m.\u001b[39mget(\u001b[38;5;124m\"\u001b[39m\u001b[38;5;124mnames\u001b[39m\u001b[38;5;124m\"\u001b[39m, \u001b[38;5;28;01mNone\u001b[39;00m))\n\u001b[0;32m    619\u001b[0m \u001b[38;5;66;03m# Create the parser.\u001b[39;00m\n\u001b[1;32m--> 620\u001b[0m parser \u001b[38;5;241m=\u001b[39m \u001b[43mTextFileReader\u001b[49m\u001b[43m(\u001b[49m\u001b[43mfilepath_or_buffer\u001b[49m\u001b[43m,\u001b[49m\u001b[43m \u001b[49m\u001b[38;5;241;43m*\u001b[39;49m\u001b[38;5;241;43m*\u001b[39;49m\u001b[43mkwds\u001b[49m\u001b[43m)\u001b[49m\n\u001b[0;32m    622\u001b[0m \u001b[38;5;28;01mif\u001b[39;00m chunksize \u001b[38;5;129;01mor\u001b[39;00m iterator:\n\u001b[0;32m    623\u001b[0m     \u001b[38;5;28;01mreturn\u001b[39;00m parser\n",
      "File \u001b[1;32mD:\\Python311\\Lib\\site-packages\\pandas\\io\\parsers\\readers.py:1620\u001b[0m, in \u001b[0;36mTextFileReader.__init__\u001b[1;34m(self, f, engine, **kwds)\u001b[0m\n\u001b[0;32m   1617\u001b[0m     \u001b[38;5;28mself\u001b[39m\u001b[38;5;241m.\u001b[39moptions[\u001b[38;5;124m\"\u001b[39m\u001b[38;5;124mhas_index_names\u001b[39m\u001b[38;5;124m\"\u001b[39m] \u001b[38;5;241m=\u001b[39m kwds[\u001b[38;5;124m\"\u001b[39m\u001b[38;5;124mhas_index_names\u001b[39m\u001b[38;5;124m\"\u001b[39m]\n\u001b[0;32m   1619\u001b[0m \u001b[38;5;28mself\u001b[39m\u001b[38;5;241m.\u001b[39mhandles: IOHandles \u001b[38;5;241m|\u001b[39m \u001b[38;5;28;01mNone\u001b[39;00m \u001b[38;5;241m=\u001b[39m \u001b[38;5;28;01mNone\u001b[39;00m\n\u001b[1;32m-> 1620\u001b[0m \u001b[38;5;28mself\u001b[39m\u001b[38;5;241m.\u001b[39m_engine \u001b[38;5;241m=\u001b[39m \u001b[38;5;28;43mself\u001b[39;49m\u001b[38;5;241;43m.\u001b[39;49m\u001b[43m_make_engine\u001b[49m\u001b[43m(\u001b[49m\u001b[43mf\u001b[49m\u001b[43m,\u001b[49m\u001b[43m \u001b[49m\u001b[38;5;28;43mself\u001b[39;49m\u001b[38;5;241;43m.\u001b[39;49m\u001b[43mengine\u001b[49m\u001b[43m)\u001b[49m\n",
      "File \u001b[1;32mD:\\Python311\\Lib\\site-packages\\pandas\\io\\parsers\\readers.py:1880\u001b[0m, in \u001b[0;36mTextFileReader._make_engine\u001b[1;34m(self, f, engine)\u001b[0m\n\u001b[0;32m   1878\u001b[0m     \u001b[38;5;28;01mif\u001b[39;00m \u001b[38;5;124m\"\u001b[39m\u001b[38;5;124mb\u001b[39m\u001b[38;5;124m\"\u001b[39m \u001b[38;5;129;01mnot\u001b[39;00m \u001b[38;5;129;01min\u001b[39;00m mode:\n\u001b[0;32m   1879\u001b[0m         mode \u001b[38;5;241m+\u001b[39m\u001b[38;5;241m=\u001b[39m \u001b[38;5;124m\"\u001b[39m\u001b[38;5;124mb\u001b[39m\u001b[38;5;124m\"\u001b[39m\n\u001b[1;32m-> 1880\u001b[0m \u001b[38;5;28mself\u001b[39m\u001b[38;5;241m.\u001b[39mhandles \u001b[38;5;241m=\u001b[39m \u001b[43mget_handle\u001b[49m\u001b[43m(\u001b[49m\n\u001b[0;32m   1881\u001b[0m \u001b[43m    \u001b[49m\u001b[43mf\u001b[49m\u001b[43m,\u001b[49m\n\u001b[0;32m   1882\u001b[0m \u001b[43m    \u001b[49m\u001b[43mmode\u001b[49m\u001b[43m,\u001b[49m\n\u001b[0;32m   1883\u001b[0m \u001b[43m    \u001b[49m\u001b[43mencoding\u001b[49m\u001b[38;5;241;43m=\u001b[39;49m\u001b[38;5;28;43mself\u001b[39;49m\u001b[38;5;241;43m.\u001b[39;49m\u001b[43moptions\u001b[49m\u001b[38;5;241;43m.\u001b[39;49m\u001b[43mget\u001b[49m\u001b[43m(\u001b[49m\u001b[38;5;124;43m\"\u001b[39;49m\u001b[38;5;124;43mencoding\u001b[39;49m\u001b[38;5;124;43m\"\u001b[39;49m\u001b[43m,\u001b[49m\u001b[43m \u001b[49m\u001b[38;5;28;43;01mNone\u001b[39;49;00m\u001b[43m)\u001b[49m\u001b[43m,\u001b[49m\n\u001b[0;32m   1884\u001b[0m \u001b[43m    \u001b[49m\u001b[43mcompression\u001b[49m\u001b[38;5;241;43m=\u001b[39;49m\u001b[38;5;28;43mself\u001b[39;49m\u001b[38;5;241;43m.\u001b[39;49m\u001b[43moptions\u001b[49m\u001b[38;5;241;43m.\u001b[39;49m\u001b[43mget\u001b[49m\u001b[43m(\u001b[49m\u001b[38;5;124;43m\"\u001b[39;49m\u001b[38;5;124;43mcompression\u001b[39;49m\u001b[38;5;124;43m\"\u001b[39;49m\u001b[43m,\u001b[49m\u001b[43m \u001b[49m\u001b[38;5;28;43;01mNone\u001b[39;49;00m\u001b[43m)\u001b[49m\u001b[43m,\u001b[49m\n\u001b[0;32m   1885\u001b[0m \u001b[43m    \u001b[49m\u001b[43mmemory_map\u001b[49m\u001b[38;5;241;43m=\u001b[39;49m\u001b[38;5;28;43mself\u001b[39;49m\u001b[38;5;241;43m.\u001b[39;49m\u001b[43moptions\u001b[49m\u001b[38;5;241;43m.\u001b[39;49m\u001b[43mget\u001b[49m\u001b[43m(\u001b[49m\u001b[38;5;124;43m\"\u001b[39;49m\u001b[38;5;124;43mmemory_map\u001b[39;49m\u001b[38;5;124;43m\"\u001b[39;49m\u001b[43m,\u001b[49m\u001b[43m \u001b[49m\u001b[38;5;28;43;01mFalse\u001b[39;49;00m\u001b[43m)\u001b[49m\u001b[43m,\u001b[49m\n\u001b[0;32m   1886\u001b[0m \u001b[43m    \u001b[49m\u001b[43mis_text\u001b[49m\u001b[38;5;241;43m=\u001b[39;49m\u001b[43mis_text\u001b[49m\u001b[43m,\u001b[49m\n\u001b[0;32m   1887\u001b[0m \u001b[43m    \u001b[49m\u001b[43merrors\u001b[49m\u001b[38;5;241;43m=\u001b[39;49m\u001b[38;5;28;43mself\u001b[39;49m\u001b[38;5;241;43m.\u001b[39;49m\u001b[43moptions\u001b[49m\u001b[38;5;241;43m.\u001b[39;49m\u001b[43mget\u001b[49m\u001b[43m(\u001b[49m\u001b[38;5;124;43m\"\u001b[39;49m\u001b[38;5;124;43mencoding_errors\u001b[39;49m\u001b[38;5;124;43m\"\u001b[39;49m\u001b[43m,\u001b[49m\u001b[43m \u001b[49m\u001b[38;5;124;43m\"\u001b[39;49m\u001b[38;5;124;43mstrict\u001b[39;49m\u001b[38;5;124;43m\"\u001b[39;49m\u001b[43m)\u001b[49m\u001b[43m,\u001b[49m\n\u001b[0;32m   1888\u001b[0m \u001b[43m    \u001b[49m\u001b[43mstorage_options\u001b[49m\u001b[38;5;241;43m=\u001b[39;49m\u001b[38;5;28;43mself\u001b[39;49m\u001b[38;5;241;43m.\u001b[39;49m\u001b[43moptions\u001b[49m\u001b[38;5;241;43m.\u001b[39;49m\u001b[43mget\u001b[49m\u001b[43m(\u001b[49m\u001b[38;5;124;43m\"\u001b[39;49m\u001b[38;5;124;43mstorage_options\u001b[39;49m\u001b[38;5;124;43m\"\u001b[39;49m\u001b[43m,\u001b[49m\u001b[43m \u001b[49m\u001b[38;5;28;43;01mNone\u001b[39;49;00m\u001b[43m)\u001b[49m\u001b[43m,\u001b[49m\n\u001b[0;32m   1889\u001b[0m \u001b[43m\u001b[49m\u001b[43m)\u001b[49m\n\u001b[0;32m   1890\u001b[0m \u001b[38;5;28;01massert\u001b[39;00m \u001b[38;5;28mself\u001b[39m\u001b[38;5;241m.\u001b[39mhandles \u001b[38;5;129;01mis\u001b[39;00m \u001b[38;5;129;01mnot\u001b[39;00m \u001b[38;5;28;01mNone\u001b[39;00m\n\u001b[0;32m   1891\u001b[0m f \u001b[38;5;241m=\u001b[39m \u001b[38;5;28mself\u001b[39m\u001b[38;5;241m.\u001b[39mhandles\u001b[38;5;241m.\u001b[39mhandle\n",
      "File \u001b[1;32mD:\\Python311\\Lib\\site-packages\\pandas\\io\\common.py:873\u001b[0m, in \u001b[0;36mget_handle\u001b[1;34m(path_or_buf, mode, encoding, compression, memory_map, is_text, errors, storage_options)\u001b[0m\n\u001b[0;32m    868\u001b[0m \u001b[38;5;28;01melif\u001b[39;00m \u001b[38;5;28misinstance\u001b[39m(handle, \u001b[38;5;28mstr\u001b[39m):\n\u001b[0;32m    869\u001b[0m     \u001b[38;5;66;03m# Check whether the filename is to be opened in binary mode.\u001b[39;00m\n\u001b[0;32m    870\u001b[0m     \u001b[38;5;66;03m# Binary mode does not support 'encoding' and 'newline'.\u001b[39;00m\n\u001b[0;32m    871\u001b[0m     \u001b[38;5;28;01mif\u001b[39;00m ioargs\u001b[38;5;241m.\u001b[39mencoding \u001b[38;5;129;01mand\u001b[39;00m \u001b[38;5;124m\"\u001b[39m\u001b[38;5;124mb\u001b[39m\u001b[38;5;124m\"\u001b[39m \u001b[38;5;129;01mnot\u001b[39;00m \u001b[38;5;129;01min\u001b[39;00m ioargs\u001b[38;5;241m.\u001b[39mmode:\n\u001b[0;32m    872\u001b[0m         \u001b[38;5;66;03m# Encoding\u001b[39;00m\n\u001b[1;32m--> 873\u001b[0m         handle \u001b[38;5;241m=\u001b[39m \u001b[38;5;28;43mopen\u001b[39;49m\u001b[43m(\u001b[49m\n\u001b[0;32m    874\u001b[0m \u001b[43m            \u001b[49m\u001b[43mhandle\u001b[49m\u001b[43m,\u001b[49m\n\u001b[0;32m    875\u001b[0m \u001b[43m            \u001b[49m\u001b[43mioargs\u001b[49m\u001b[38;5;241;43m.\u001b[39;49m\u001b[43mmode\u001b[49m\u001b[43m,\u001b[49m\n\u001b[0;32m    876\u001b[0m \u001b[43m            \u001b[49m\u001b[43mencoding\u001b[49m\u001b[38;5;241;43m=\u001b[39;49m\u001b[43mioargs\u001b[49m\u001b[38;5;241;43m.\u001b[39;49m\u001b[43mencoding\u001b[49m\u001b[43m,\u001b[49m\n\u001b[0;32m    877\u001b[0m \u001b[43m            \u001b[49m\u001b[43merrors\u001b[49m\u001b[38;5;241;43m=\u001b[39;49m\u001b[43merrors\u001b[49m\u001b[43m,\u001b[49m\n\u001b[0;32m    878\u001b[0m \u001b[43m            \u001b[49m\u001b[43mnewline\u001b[49m\u001b[38;5;241;43m=\u001b[39;49m\u001b[38;5;124;43m\"\u001b[39;49m\u001b[38;5;124;43m\"\u001b[39;49m\u001b[43m,\u001b[49m\n\u001b[0;32m    879\u001b[0m \u001b[43m        \u001b[49m\u001b[43m)\u001b[49m\n\u001b[0;32m    880\u001b[0m     \u001b[38;5;28;01melse\u001b[39;00m:\n\u001b[0;32m    881\u001b[0m         \u001b[38;5;66;03m# Binary mode\u001b[39;00m\n\u001b[0;32m    882\u001b[0m         handle \u001b[38;5;241m=\u001b[39m \u001b[38;5;28mopen\u001b[39m(handle, ioargs\u001b[38;5;241m.\u001b[39mmode)\n",
      "\u001b[1;31mFileNotFoundError\u001b[0m: [Errno 2] No such file or directory: 'cleanedSO.csv'"
     ]
    }
   ],
   "source": [
    "# Bring the prepared data in\n",
    "\n",
    "df = pd.read_csv('cleanedSO.csv')"
   ]
  },
  {
   "cell_type": "markdown",
   "id": "25cb001f",
   "metadata": {},
   "source": [
    " Using some of the basic pandas tools, explore this dataset. Think back to descriptive statistics and meta data about the dataframe."
   ]
  },
  {
   "cell_type": "code",
   "execution_count": null,
   "id": "f0a2d75a",
   "metadata": {
    "ExecuteTime": {
     "end_time": "2024-08-25T22:17:16.142764Z",
     "start_time": "2024-08-25T22:17:16.136762Z"
    }
   },
   "outputs": [],
   "source": [
    "df.shape"
   ]
  },
  {
   "cell_type": "code",
   "execution_count": null,
   "id": "798421c2",
   "metadata": {
    "ExecuteTime": {
     "end_time": "2024-08-25T22:17:16.827007Z",
     "start_time": "2024-08-25T22:17:16.812008Z"
    },
    "scrolled": true
   },
   "outputs": [],
   "source": [
    "df.describe()"
   ]
  },
  {
   "cell_type": "code",
   "execution_count": null,
   "id": "bb418b52",
   "metadata": {
    "ExecuteTime": {
     "end_time": "2024-08-25T22:17:30.095131Z",
     "start_time": "2024-08-25T22:17:30.065132Z"
    }
   },
   "outputs": [],
   "source": [
    "df.describe(include='object')"
   ]
  },
  {
   "cell_type": "code",
   "execution_count": null,
   "id": "6c9791d8",
   "metadata": {
    "ExecuteTime": {
     "end_time": "2024-08-25T22:17:42.251509Z",
     "start_time": "2024-08-25T22:17:42.237508Z"
    }
   },
   "outputs": [],
   "source": [
    "df.dtypes"
   ]
  },
  {
   "cell_type": "code",
   "execution_count": null,
   "id": "110f9ae0",
   "metadata": {
    "ExecuteTime": {
     "end_time": "2024-08-25T22:17:45.013880Z",
     "start_time": "2024-08-25T22:17:44.988855Z"
    }
   },
   "outputs": [],
   "source": [
    "df.isna().sum()"
   ]
  },
  {
   "cell_type": "markdown",
   "id": "92633ecb",
   "metadata": {},
   "source": [
    "#### Questions to consider:\n",
    "\n",
    "1. Does anything jump out while looking at the descriptive statistics?\n",
    "2. What columns can we use without manipulation?\n",
    "3. How are we going to handle the non-numerics?"
   ]
  },
  {
   "cell_type": "markdown",
   "id": "6927d260",
   "metadata": {},
   "source": [
    "### Data Preparation\n",
    "\n",
    "Remember those non-numeric variables? We need to deal with them. We will do that by creating [dummy variables](https://en.wikipedia.org/wiki/Dummy_variable_(statistics)) using the built-in pandas method [`pd.get_dummies()`](https://pandas.pydata.org/docs/reference/api/pandas.get_dummies.html)"
   ]
  },
  {
   "cell_type": "code",
   "execution_count": null,
   "id": "c0930fb9",
   "metadata": {
    "ExecuteTime": {
     "end_time": "2024-08-25T22:32:50.712300Z",
     "start_time": "2024-08-25T22:32:50.689275Z"
    }
   },
   "outputs": [],
   "source": [
    "# pd.get_dummies is smart enough to look at the datatypes and only use the fields \n",
    "# that are object fields.\n",
    "df = pd.get_dummies(df)"
   ]
  },
  {
   "cell_type": "code",
   "execution_count": null,
   "id": "0e2b9ceb",
   "metadata": {
    "ExecuteTime": {
     "end_time": "2024-08-25T22:33:44.522776Z",
     "start_time": "2024-08-25T22:33:44.495778Z"
    }
   },
   "outputs": [],
   "source": [
    "df.head()"
   ]
  },
  {
   "cell_type": "code",
   "execution_count": null,
   "id": "b573fac4",
   "metadata": {
    "ExecuteTime": {
     "end_time": "2024-08-25T22:34:05.231779Z",
     "start_time": "2024-08-25T22:34:05.218779Z"
    }
   },
   "outputs": [],
   "source": [
    "# check the datatypes!\n",
    "df.dtypes"
   ]
  },
  {
   "cell_type": "markdown",
   "id": "26171a45",
   "metadata": {},
   "source": [
    "Note that after \"dummying\" we now have all numeric columns"
   ]
  },
  {
   "cell_type": "markdown",
   "id": "99b42de2",
   "metadata": {},
   "source": [
    "# Modeling\n",
    "\n",
    "We will now instantiate, train, and use a model to make predictions.\n",
    "\n",
    "scikit-learn as a large number of methods, which we will not be exploring in their entirety here. We will focus on two methods:\n",
    "1. [`.fit()`](https://scikit-learn.org/stable/modules/generated/sklearn.linear_model.LinearRegression.html#sklearn.linear_model.LinearRegression.fit)\n",
    "2. [`.score()`](https://scikit-learn.org/stable/modules/generated/sklearn.linear_model.LinearRegression.html#sklearn.linear_model.LinearRegression.score)\n",
    "\n",
    "`.fit()` is the method we will use to train our linear regression algorithm.\n",
    "\n",
    "`.score()` will return the default scoring method, which, for linear regression is $r^2$."
   ]
  },
  {
   "cell_type": "code",
   "execution_count": null,
   "id": "6f641aa7",
   "metadata": {
    "ExecuteTime": {
     "end_time": "2024-08-25T22:35:41.492532Z",
     "start_time": "2024-08-25T22:35:41.482561Z"
    }
   },
   "outputs": [],
   "source": [
    "# instantiate\n",
    "# this creates a linear regression object that we can train and score\n",
    "\n",
    "lr = LinearRegression()"
   ]
  },
  {
   "cell_type": "markdown",
   "id": "48cd8778",
   "metadata": {},
   "source": [
    "Statsmodels uses terms like endogenous and exogenous variables. scikit-learn uses different terminology, more in keeping with the predictive nature.\n",
    "\n",
    "The dependent variable, or, what we are trying to predict, is always `y`.\n",
    "\n",
    "The independent variables, or, what we are using to predict `y` is called `X`.\n",
    "\n",
    "Note that the `y` is lower case and the `X` is upper case. This is in keeping with matrix naming conventions. `X` is a matrix of independent variables and `y` is a vector for the dependent variable."
   ]
  },
  {
   "cell_type": "code",
   "execution_count": null,
   "id": "9d0f5925",
   "metadata": {
    "ExecuteTime": {
     "end_time": "2024-08-25T22:38:46.341331Z",
     "start_time": "2024-08-25T22:38:46.331333Z"
    }
   },
   "outputs": [],
   "source": [
    "# Set the target, or the y variable\n",
    "\n",
    "y = df['Salary']"
   ]
  },
  {
   "cell_type": "code",
   "execution_count": null,
   "id": "42820cd8",
   "metadata": {
    "ExecuteTime": {
     "end_time": "2024-08-25T22:39:39.041916Z",
     "start_time": "2024-08-25T22:39:39.025915Z"
    }
   },
   "outputs": [],
   "source": [
    "# Set the independent variable matrix, X\n",
    "\n",
    "X = df.drop('Salary', axis=1)"
   ]
  },
  {
   "cell_type": "markdown",
   "id": "fd7f760b",
   "metadata": {},
   "source": [
    "We now need to train the model. This is the process of applying the data to linear regression linear equation. Recall the closed form solution for linear regression.\n",
    "\n",
    "$\\vec{b} = (X^TX)^{-1}X^Ty$\n",
    "\n",
    "Where $\\vec{b}$ are the coefficients we are training. This is done via the `.fit()` method."
   ]
  },
  {
   "cell_type": "code",
   "execution_count": null,
   "id": "f0c209ed",
   "metadata": {
    "ExecuteTime": {
     "end_time": "2024-08-25T22:53:49.934010Z",
     "start_time": "2024-08-25T22:53:49.819010Z"
    },
    "scrolled": true
   },
   "outputs": [],
   "source": [
    "# Train the model with the .fit() method\n",
    "\n",
    "lr.fit(X,y)"
   ]
  },
  {
   "cell_type": "markdown",
   "id": "8023807b",
   "metadata": {},
   "source": [
    "# Evaluation\n",
    "\n",
    "We are going to use the scikit-learn metrics $r^2$ and mean squared error to evaluate how the model is performing."
   ]
  },
  {
   "cell_type": "code",
   "execution_count": null,
   "id": "24dbac6f",
   "metadata": {
    "ExecuteTime": {
     "end_time": "2024-08-25T22:55:50.418746Z",
     "start_time": "2024-08-25T22:55:50.392747Z"
    }
   },
   "outputs": [],
   "source": [
    "# use .score(). Recall this returns the default scoring method, which, for linear regression is r^2.\n",
    "\n",
    "lr.score(X,y)"
   ]
  },
  {
   "cell_type": "markdown",
   "id": "f0a67080",
   "metadata": {},
   "source": [
    "Looking at that number, what are your take-aways?\n",
    "\n",
    "\n",
    "\n",
    "\n",
    "\n",
    "Now we'll look at mean squared error. In order to get this metric, we need to create our predictions using our trained model. This is done with the [`.predict()`](https://scikit-learn.org/stable/modules/generated/sklearn.linear_model.LinearRegression.html#sklearn.linear_model.LinearRegression.predict) method."
   ]
  },
  {
   "cell_type": "code",
   "execution_count": null,
   "id": "089bc81f",
   "metadata": {
    "ExecuteTime": {
     "end_time": "2024-08-25T22:58:10.139435Z",
     "start_time": "2024-08-25T22:58:10.115435Z"
    }
   },
   "outputs": [],
   "source": [
    "y_pred = lr.predict(X)"
   ]
  },
  {
   "cell_type": "code",
   "execution_count": null,
   "id": "3404f1cb",
   "metadata": {
    "ExecuteTime": {
     "end_time": "2024-08-25T22:59:09.291766Z",
     "start_time": "2024-08-25T22:59:09.283763Z"
    }
   },
   "outputs": [],
   "source": [
    "# Use y_pred and y with the mean squared error method\n",
    "mse = mean_squared_error(y, y_pred)\n",
    "\n",
    "mse"
   ]
  },
  {
   "cell_type": "markdown",
   "id": "c21433b7",
   "metadata": {},
   "source": [
    "That number is ridiculously large. The reason is this method returns the *squared* error. This doesn't really translate well, so we'll take the square of it to get a more usable number."
   ]
  },
  {
   "cell_type": "code",
   "execution_count": null,
   "id": "1b6ee187",
   "metadata": {
    "ExecuteTime": {
     "end_time": "2024-08-25T23:02:08.784609Z",
     "start_time": "2024-08-25T23:02:08.777609Z"
    }
   },
   "outputs": [],
   "source": [
    "rmse = mse**(1/2)\n",
    "rmse"
   ]
  },
  {
   "cell_type": "code",
   "execution_count": null,
   "id": "3e55f371",
   "metadata": {
    "ExecuteTime": {
     "end_time": "2024-08-25T23:02:59.622024Z",
     "start_time": "2024-08-25T23:02:59.610024Z"
    }
   },
   "outputs": [],
   "source": [
    "# You can also get this number by setting a flag when calling the function\n",
    "rmse2 = mean_squared_error(y, y_pred, squared=False)\n",
    "rmse2"
   ]
  },
  {
   "cell_type": "markdown",
   "id": "0adc8913",
   "metadata": {},
   "source": [
    "Our $r^2$ is .2285. This is a very low number.\n",
    "\n",
    "Our root mean squared error is 60,592. This can be read as the average salary prediction is off by $60k. This is not good, either."
   ]
  },
  {
   "cell_type": "markdown",
   "id": "e2e04c3c",
   "metadata": {},
   "source": [
    "So what can we conclude from this?\n",
    "\n",
    "1. The model isn't good. At all.\n",
    "2. There is an issue with the data (a minimum salary of .024?)"
   ]
  },
  {
   "cell_type": "markdown",
   "id": "1109d593",
   "metadata": {},
   "source": [
    "# Conclusion\n",
    "\n",
    "You now know how to:\n",
    "1. instantiate a scikit-learn model\n",
    "2. train a model\n",
    "3. score a model with multiple metrics"
   ]
  }
 ],
 "metadata": {
  "kernelspec": {
   "display_name": "Python 3 (ipykernel)",
   "language": "python",
   "name": "python3"
  },
  "language_info": {
   "codemirror_mode": {
    "name": "ipython",
    "version": 3
   },
   "file_extension": ".py",
   "mimetype": "text/x-python",
   "name": "python",
   "nbconvert_exporter": "python",
   "pygments_lexer": "ipython3",
   "version": "3.11.5"
  },
  "toc": {
   "base_numbering": 1,
   "nav_menu": {},
   "number_sections": true,
   "sideBar": true,
   "skip_h1_title": false,
   "title_cell": "Table of Contents",
   "title_sidebar": "Contents",
   "toc_cell": false,
   "toc_position": {},
   "toc_section_display": true,
   "toc_window_display": false
  },
  "varInspector": {
   "cols": {
    "lenName": 16,
    "lenType": 16,
    "lenVar": 40
   },
   "kernels_config": {
    "python": {
     "delete_cmd_postfix": "",
     "delete_cmd_prefix": "del ",
     "library": "var_list.py",
     "varRefreshCmd": "print(var_dic_list())"
    },
    "r": {
     "delete_cmd_postfix": ") ",
     "delete_cmd_prefix": "rm(",
     "library": "var_list.r",
     "varRefreshCmd": "cat(var_dic_list()) "
    }
   },
   "types_to_exclude": [
    "module",
    "function",
    "builtin_function_or_method",
    "instance",
    "_Feature"
   ],
   "window_display": false
  }
 },
 "nbformat": 4,
 "nbformat_minor": 5
}
