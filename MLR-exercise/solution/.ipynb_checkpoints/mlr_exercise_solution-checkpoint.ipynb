{
 "cells": [
  {
   "cell_type": "code",
   "execution_count": null,
   "id": "e6a091eb",
   "metadata": {
    "ExecuteTime": {
     "end_time": "2024-09-10T21:48:57.362611Z",
     "start_time": "2024-09-10T21:48:57.358610Z"
    }
   },
   "outputs": [],
   "source": [
    "# imports\n",
    "# best practice is to keep all the imports in one cell, at the top of your notebook or script\n",
    "\n",
    "import pandas as pd\n",
    "from sklearn.linear_model import LinearRegression\n",
    "from sklearn.model_selection import train_test_split\n",
    "from sklearn.metrics import r2_score, mean_squared_error, root_mean_squared_error\n"
   ]
  },
  {
   "cell_type": "code",
   "execution_count": null,
   "id": "f62bccb8",
   "metadata": {
    "ExecuteTime": {
     "end_time": "2024-09-10T21:48:58.351890Z",
     "start_time": "2024-09-10T21:48:58.293861Z"
    }
   },
   "outputs": [],
   "source": [
    "# Bring the prepared csv data in\n",
    "\n",
    "df = pd.read_csv('cleanedSO.csv')"
   ]
  },
  {
   "cell_type": "markdown",
   "id": "25cb001f",
   "metadata": {},
   "source": [
    " Using some of the basic pandas tools, explore this dataset. Think back to descriptive statistics and meta data about the dataframe."
   ]
  },
  {
   "cell_type": "code",
   "execution_count": null,
   "id": "f0a2d75a",
   "metadata": {
    "ExecuteTime": {
     "end_time": "2024-09-10T21:48:59.249861Z",
     "start_time": "2024-09-10T21:48:59.235862Z"
    }
   },
   "outputs": [],
   "source": [
    "df.shape"
   ]
  },
  {
   "cell_type": "code",
   "execution_count": null,
   "id": "798421c2",
   "metadata": {
    "ExecuteTime": {
     "end_time": "2024-09-10T21:48:59.657858Z",
     "start_time": "2024-09-10T21:48:59.639859Z"
    },
    "scrolled": true
   },
   "outputs": [],
   "source": [
    "df.describe()"
   ]
  },
  {
   "cell_type": "code",
   "execution_count": null,
   "id": "bb418b52",
   "metadata": {
    "ExecuteTime": {
     "end_time": "2024-09-10T21:49:00.032159Z",
     "start_time": "2024-09-10T21:49:00.007160Z"
    }
   },
   "outputs": [],
   "source": [
    "df.describe(include='object')"
   ]
  },
  {
   "cell_type": "code",
   "execution_count": null,
   "id": "6c9791d8",
   "metadata": {
    "ExecuteTime": {
     "end_time": "2024-09-10T21:49:00.418765Z",
     "start_time": "2024-09-10T21:49:00.399800Z"
    }
   },
   "outputs": [],
   "source": [
    "df.dtypes"
   ]
  },
  {
   "cell_type": "code",
   "execution_count": null,
   "id": "110f9ae0",
   "metadata": {
    "ExecuteTime": {
     "end_time": "2024-09-10T21:49:00.902094Z",
     "start_time": "2024-09-10T21:49:00.873122Z"
    }
   },
   "outputs": [],
   "source": [
    "df.isna().sum()"
   ]
  },
  {
   "cell_type": "markdown",
   "id": "92633ecb",
   "metadata": {},
   "source": [
    "#### Questions to consider:\n",
    "\n",
    "1. Does anything jump out while looking at the descriptive statistics?\n",
    "2. What columns can we use without manipulation?\n",
    "3. How are we going to handle the non-numerics?"
   ]
  },
  {
   "cell_type": "markdown",
   "id": "6927d260",
   "metadata": {},
   "source": [
    "### Data Preparation\n",
    "\n",
    "Remember those non-numeric variables? We need to deal with them. We will do that by creating [dummy variables](https://en.wikipedia.org/wiki/Dummy_variable_(statistics)) using the built-in pandas method [`pd.get_dummies()`](https://pandas.pydata.org/docs/reference/api/pandas.get_dummies.html)"
   ]
  },
  {
   "cell_type": "code",
   "execution_count": null,
   "id": "c0930fb9",
   "metadata": {
    "ExecuteTime": {
     "end_time": "2024-09-10T21:49:02.503433Z",
     "start_time": "2024-09-10T21:49:02.476403Z"
    }
   },
   "outputs": [],
   "source": [
    "# pd.get_dummies is smart enough to look at the datatypes and only use the fields \n",
    "# that are object fields.\n",
    "df = pd.get_dummies(df)"
   ]
  },
  {
   "cell_type": "code",
   "execution_count": null,
   "id": "0e2b9ceb",
   "metadata": {
    "ExecuteTime": {
     "end_time": "2024-09-10T21:49:03.948270Z",
     "start_time": "2024-09-10T21:49:03.932241Z"
    }
   },
   "outputs": [],
   "source": [
    "df.head()"
   ]
  },
  {
   "cell_type": "code",
   "execution_count": null,
   "id": "b573fac4",
   "metadata": {
    "ExecuteTime": {
     "end_time": "2024-09-10T21:49:04.902989Z",
     "start_time": "2024-09-10T21:49:04.895993Z"
    }
   },
   "outputs": [],
   "source": [
    "# check the datatypes!\n",
    "df.dtypes"
   ]
  },
  {
   "cell_type": "markdown",
   "id": "26171a45",
   "metadata": {},
   "source": [
    "Note that after \"dummying\" we now have all numeric columns"
   ]
  },
  {
   "cell_type": "markdown",
   "id": "dbdaa5e7",
   "metadata": {},
   "source": [
    "### Variable Selection and TTS\n",
    "\n",
    "(recall that TTS stands for train-test-split)\n",
    "\n",
    "Statsmodels uses terms like endogenous and exogenous variables. scikit-learn uses different terminology, more in keeping with the predictive nature.\n",
    "\n",
    "The dependent variable, or, what we are trying to predict, is always `y`.\n",
    "\n",
    "The independent variables, or, what we are using to predict `y` is called `X`.\n",
    "\n",
    "Note the `y` is lower case and the `X` is upper case. This is in following with matrix naming conventions. `X` is a matrix of independent variables and `y` is a vector for the dependent variable."
   ]
  },
  {
   "cell_type": "code",
   "execution_count": null,
   "id": "9d0f5925",
   "metadata": {
    "ExecuteTime": {
     "end_time": "2024-09-10T21:49:07.064913Z",
     "start_time": "2024-09-10T21:49:07.051913Z"
    }
   },
   "outputs": [],
   "source": [
    "# Set the target, or the y variable\n",
    "\n",
    "y = df['Salary']"
   ]
  },
  {
   "cell_type": "code",
   "execution_count": null,
   "id": "42820cd8",
   "metadata": {
    "ExecuteTime": {
     "end_time": "2024-09-10T21:49:07.953249Z",
     "start_time": "2024-09-10T21:49:07.943250Z"
    }
   },
   "outputs": [],
   "source": [
    "# Set the independent variable matrix, X\n",
    "\n",
    "X = df.drop('Salary', axis=1)"
   ]
  },
  {
   "cell_type": "code",
   "execution_count": null,
   "id": "ac20a010",
   "metadata": {
    "ExecuteTime": {
     "end_time": "2024-09-10T21:49:53.028645Z",
     "start_time": "2024-09-10T21:49:53.010620Z"
    }
   },
   "outputs": [],
   "source": [
    "# create your train-test splits\n",
    "\n",
    "X_train, X_test, y_train, y_test = train_test_split(X,y)"
   ]
  },
  {
   "cell_type": "markdown",
   "id": "99b42de2",
   "metadata": {},
   "source": [
    "### Modeling\n",
    "\n",
    "We will now instantiate, train, and use a model to make predictions.\n",
    "\n",
    "scikit-learn as a large number of methods, which we will not exploring in their entirety here. We will focus on two methods:\n",
    "1. [`.fit()`](https://scikit-learn.org/stable/modules/generated/sklearn.linear_model.LinearRegression.html#sklearn.linear_model.LinearRegression.fit)\n",
    "2. [`.score()`](https://scikit-learn.org/stable/modules/generated/sklearn.linear_model.LinearRegression.html#sklearn.linear_model.LinearRegression.score)\n",
    "\n",
    "`.fit()` is the method we will use to train our linear regression algorithm.\n",
    "\n",
    "`.score()` will return the default scoring method, which, for linear regression is $r^2$."
   ]
  },
  {
   "cell_type": "code",
   "execution_count": null,
   "id": "6f641aa7",
   "metadata": {
    "ExecuteTime": {
     "end_time": "2024-09-10T21:49:53.886175Z",
     "start_time": "2024-09-10T21:49:53.878175Z"
    }
   },
   "outputs": [],
   "source": [
    "# instantiate\n",
    "# this creates a linear regression object that we can train and score\n",
    "\n",
    "lr = LinearRegression()"
   ]
  },
  {
   "cell_type": "markdown",
   "id": "fd7f760b",
   "metadata": {},
   "source": [
    "We now need to train the model. This is the process of applying the data to linear regression linear equation. Recall the closed form solution for linear regression.\n",
    "\n",
    "$\\vec{b} = (X^TX)^{-1}X^Ty$\n",
    "\n",
    "Where $\\vec{b}$ are the coefficients we are training. This is done via the `.fit()` method."
   ]
  },
  {
   "cell_type": "code",
   "execution_count": null,
   "id": "f0c209ed",
   "metadata": {
    "ExecuteTime": {
     "end_time": "2024-09-10T21:49:54.880711Z",
     "start_time": "2024-09-10T21:49:54.826683Z"
    },
    "scrolled": true
   },
   "outputs": [],
   "source": [
    "# Train the model with the correct data set\n",
    "\n",
    "lr.fit(X_train,y_train)"
   ]
  },
  {
   "cell_type": "markdown",
   "id": "8023807b",
   "metadata": {},
   "source": [
    "# Evaluation\n",
    "\n",
    "We are going to use the scikit-learn metrics $r^2$ and mean squared error to evaluate how the model is performing."
   ]
  },
  {
   "cell_type": "code",
   "execution_count": null,
   "id": "24dbac6f",
   "metadata": {
    "ExecuteTime": {
     "end_time": "2024-09-10T21:49:59.127933Z",
     "start_time": "2024-09-10T21:49:59.114933Z"
    }
   },
   "outputs": [],
   "source": [
    "# use .score(). Recall this returns the default scoring method, which, for linear regression is r^2.\n",
    "\n",
    "train_r2 = lr.score(X_train,y_train)\n",
    "print(f'training r^2: {train_r2}')"
   ]
  },
  {
   "cell_type": "markdown",
   "id": "f0a67080",
   "metadata": {},
   "source": [
    "Looking at that numbers what are your take-aways?\n",
    "\n",
    "\n",
    "\n",
    "\n",
    "\n",
    "Now we'll look at mean squared error. In order to get this metric, we need to create our predictions using our trained model. This is done with the [`.predict()`](https://scikit-learn.org/stable/modules/generated/sklearn.linear_model.LinearRegression.html#sklearn.linear_model.LinearRegression.predict) method."
   ]
  },
  {
   "cell_type": "code",
   "execution_count": null,
   "id": "089bc81f",
   "metadata": {
    "ExecuteTime": {
     "end_time": "2024-09-10T21:50:04.609267Z",
     "start_time": "2024-09-10T21:50:04.598267Z"
    }
   },
   "outputs": [],
   "source": [
    "# Get predictions\n",
    "\n",
    "y_train_pred = lr.predict(X_train)"
   ]
  },
  {
   "cell_type": "code",
   "execution_count": null,
   "id": "3404f1cb",
   "metadata": {
    "ExecuteTime": {
     "end_time": "2024-09-10T21:50:12.533933Z",
     "start_time": "2024-09-10T21:50:12.520933Z"
    }
   },
   "outputs": [],
   "source": [
    "# Use y_pred and y with the mean squared error method\n",
    "\n",
    "train_mse = mean_squared_error(y_train, y_train_pred)\n",
    "print(f'training MSE: {train_mse}')"
   ]
  },
  {
   "cell_type": "markdown",
   "id": "c21433b7",
   "metadata": {},
   "source": [
    "That number is ridiculously large. The reason is this method returns the *squared* error. This doesn't really translate well, so we'll take the square of it to get a more usable number. Another advantage is the units of the RMSE are the same as the target. In this instance, RMSE will tell us the average error in dollars, since that's what the target is."
   ]
  },
  {
   "cell_type": "code",
   "execution_count": null,
   "id": "3e55f371",
   "metadata": {
    "ExecuteTime": {
     "end_time": "2024-08-25T23:02:59.622024Z",
     "start_time": "2024-08-25T23:02:59.610024Z"
    }
   },
   "outputs": [],
   "source": [
    "# use a better metric\n",
    "\n",
    "train_rmse = root_mean_squared_error(y_train, y_train_pred)\n",
    "train_rmse"
   ]
  },
  {
   "cell_type": "markdown",
   "id": "0adc8913",
   "metadata": {},
   "source": [
    "Our $r^2$ is .2282. This is a very low number.\n",
    "\n",
    "Our root mean squared error is 60,410. This can be read as the average salary prediction is off by $60k. This is not good, either."
   ]
  },
  {
   "cell_type": "markdown",
   "id": "6de712fe",
   "metadata": {},
   "source": [
    "#### Unseen data\n",
    "\n",
    "Now that we have trained our model, lets see how it performs on unseen data."
   ]
  },
  {
   "cell_type": "code",
   "execution_count": null,
   "id": "c07a3925",
   "metadata": {
    "ExecuteTime": {
     "end_time": "2024-09-10T21:52:22.134304Z",
     "start_time": "2024-09-10T21:52:22.122302Z"
    }
   },
   "outputs": [],
   "source": [
    "# Score with test data\n",
    "\n",
    "test_r2 = lr.score(X_test, y_test)\n",
    "print(f'training r^2: {test_r2}')"
   ]
  },
  {
   "cell_type": "code",
   "execution_count": null,
   "id": "49860d76",
   "metadata": {
    "ExecuteTime": {
     "end_time": "2024-09-10T21:54:02.575521Z",
     "start_time": "2024-09-10T21:54:02.560492Z"
    }
   },
   "outputs": [],
   "source": [
    "# Get the RMSE for the test set\n",
    "\n",
    "y_test_pred = lr.predict(X_test)\n",
    "test_rmse = root_mean_squared_error(y_test, y_test_pred)\n",
    "print(f'testing RMSE: {test_rmse}')"
   ]
  },
  {
   "cell_type": "code",
   "execution_count": null,
   "id": "f111ceb0",
   "metadata": {
    "ExecuteTime": {
     "end_time": "2024-09-10T21:54:50.164786Z",
     "start_time": "2024-09-10T21:54:50.156786Z"
    }
   },
   "outputs": [],
   "source": [
    "# As  reminder\n",
    "print(f'training r^2: {train_r2}')\n",
    "print(f'training r^2: {test_r2}')\n",
    "\n",
    "print(f'training RMSE: {train_rmse}')\n",
    "print(f'testing RMSE: {test_rmse}')"
   ]
  },
  {
   "cell_type": "markdown",
   "id": "e2e04c3c",
   "metadata": {},
   "source": [
    "So what can we conclude from this?\n",
    "\n",
    "1. The model isn't good. At all.\n",
    "2. There is an issue with the data (a minimum salary of .024?)\n",
    "\n",
    "The good news is that it isn't overfit. We got an equally bad model with both our training and testing data"
   ]
  }
 ],
 "metadata": {
  "kernelspec": {
   "display_name": "Python 3 (ipykernel)",
   "language": "python",
   "name": "python3"
  },
  "language_info": {
   "codemirror_mode": {
    "name": "ipython",
    "version": 3
   },
   "file_extension": ".py",
   "mimetype": "text/x-python",
   "name": "python",
   "nbconvert_exporter": "python",
   "pygments_lexer": "ipython3",
   "version": "3.11.5"
  },
  "toc": {
   "base_numbering": 1,
   "nav_menu": {},
   "number_sections": true,
   "sideBar": true,
   "skip_h1_title": false,
   "title_cell": "Table of Contents",
   "title_sidebar": "Contents",
   "toc_cell": false,
   "toc_position": {},
   "toc_section_display": true,
   "toc_window_display": false
  },
  "varInspector": {
   "cols": {
    "lenName": 16,
    "lenType": 16,
    "lenVar": 40
   },
   "kernels_config": {
    "python": {
     "delete_cmd_postfix": "",
     "delete_cmd_prefix": "del ",
     "library": "var_list.py",
     "varRefreshCmd": "print(var_dic_list())"
    },
    "r": {
     "delete_cmd_postfix": ") ",
     "delete_cmd_prefix": "rm(",
     "library": "var_list.r",
     "varRefreshCmd": "cat(var_dic_list()) "
    }
   },
   "types_to_exclude": [
    "module",
    "function",
    "builtin_function_or_method",
    "instance",
    "_Feature"
   ],
   "window_display": false
  }
 },
 "nbformat": 4,
 "nbformat_minor": 5
}
