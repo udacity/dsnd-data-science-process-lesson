{
 "cells": [
  {
   "cell_type": "markdown",
   "id": "be06b5f4",
   "metadata": {},
   "source": [
    "# Multiple Linear Regression Code Example\n",
    "\n",
    "The goal with the walk through is to introduce you to the [scikit-learn](https://scikit-learn.org/stable/) environment for *predictive* modeling.\n",
    "\n",
    "At the end of this, you should be comfortable with basics of scikit-learn model instantiation, training, and predicting."
   ]
  },
  {
   "cell_type": "markdown",
   "id": "ca1cc3e5",
   "metadata": {},
   "source": [
    "You have been asked by HR to help them come up with a model for salaries for new position your company is hiring for. Let's follow the steps of the [CRISP-DM](https://en.wikipedia.org/wiki/Cross-industry_standard_process_for_data_mining) process.\n",
    "\n",
    "--insert graphic here--\n",
    "    "
   ]
  },
  {
   "cell_type": "markdown",
   "id": "a556cc49",
   "metadata": {},
   "source": [
    "### Business Understanding\n",
    "\n",
    "Fortunately, this is pretty straight forward: how much to pay people?"
   ]
  },
  {
   "cell_type": "markdown",
   "id": "250bfdaa",
   "metadata": {},
   "source": [
    "### Data Understanding\n",
    "\n",
    "We are going to take a short-cut, and use a pre-prepared data set from the most recent [Stack OverFlow Developers Survey](https://survey.stackoverflow.co/2024/) from 2024. Here is, however the data dictionary:\n",
    "\n",
    "| **Column**  | **Data Type** | **Description**                        |\n",
    "|-------------|---------------|----------------------------------------|\n",
    "| Age         | object        | The age binned into several categories |\n",
    "| RemoteWork  | object        | What kind of remote work               |\n",
    "| EdLevel     | object        | Education level                        |\n",
    "| YearsCode   | int64         | How many years coding                  |\n",
    "| primaryDB   | object        | Primary Database Used                  |\n",
    "| primaryLang | object        | Primary language used                  |\n",
    "| Salary      | float64       | Salary in USD                          |\n",
    "\n",
    "Looking at this, it is obvious that we are going to need to create dummy variables for most of these columns."
   ]
  },
  {
   "cell_type": "markdown",
   "id": "1806ac31",
   "metadata": {},
   "source": [
    "### Data Preparation\n",
    "\n",
    "Again, this has been done for you, in order to facilitate this exercise. The on additional step we will use is [`pd.get_dummies`](https://pandas.pydata.org/docs/reference/api/pandas.get_dummies.html) in order to turn the object columns into numeric variables."
   ]
  },
  {
   "cell_type": "markdown",
   "id": "80ec405e",
   "metadata": {},
   "source": [
    "### Modeling\n",
    "\n",
    "We will be using [`LinearRegression`](https://scikit-learn.org/stable/modules/generated/sklearn.linear_model.LinearRegression.html) for our model"
   ]
  },
  {
   "cell_type": "markdown",
   "id": "2830b256",
   "metadata": {},
   "source": [
    "### Evaluation\n",
    "\n",
    "We will be looking at two metrics to determine how effective our model is for predictive purposes.\n",
    "\n",
    "1. [$r^2$ score](https://scikit-learn.org/stable/modules/generated/sklearn.metrics.r2_score.html)\n",
    "2. [mean squared error](https://scikit-learn.org/stable/modules/generated/sklearn.metrics.mean_squared_error.html)\n",
    "\n"
   ]
  },
  {
   "cell_type": "markdown",
   "id": "f32913d4",
   "metadata": {},
   "source": [
    "### Deployment\n",
    "\n",
    "For our purposes, deployment will be completing this notebook, and successfully predicting a salary."
   ]
  },
  {
   "cell_type": "markdown",
   "id": "b05db414",
   "metadata": {},
   "source": [
    "# Data import and examination and preparation\n",
    "\n",
    "Ready? Excellent, let's get to the code!"
   ]
  },
  {
   "cell_type": "code",
   "execution_count": null,
   "id": "e6a091eb",
   "metadata": {
    "ExecuteTime": {
     "end_time": "2024-08-25T22:04:27.897896Z",
     "start_time": "2024-08-25T22:04:27.537853Z"
    }
   },
   "outputs": [],
   "source": [
    "# imports\n",
    "# best practice is to keep all the imports in once cell, at the top of your notebook or script\n",
    "# hint: data handling, model,and metrics\n"
   ]
  },
  {
   "cell_type": "code",
   "execution_count": null,
   "id": "f62bccb8",
   "metadata": {
    "ExecuteTime": {
     "end_time": "2024-08-25T22:17:14.996117Z",
     "start_time": "2024-08-25T22:17:14.950087Z"
    }
   },
   "outputs": [],
   "source": [
    "# Bring the prepared csv file in "
   ]
  },
  {
   "cell_type": "markdown",
   "id": "25cb001f",
   "metadata": {},
   "source": [
    " Using some of the basic pandas tools, explore this dataset. Think back to descriptive statistics and meta data about the dataframe."
   ]
  },
  {
   "cell_type": "code",
   "execution_count": null,
   "id": "f0a2d75a",
   "metadata": {
    "ExecuteTime": {
     "end_time": "2024-08-25T22:17:16.142764Z",
     "start_time": "2024-08-25T22:17:16.136762Z"
    }
   },
   "outputs": [],
   "source": [
    "# how big is it?"
   ]
  },
  {
   "cell_type": "code",
   "execution_count": null,
   "id": "798421c2",
   "metadata": {
    "ExecuteTime": {
     "end_time": "2024-08-25T22:17:16.827007Z",
     "start_time": "2024-08-25T22:17:16.812008Z"
    },
    "scrolled": true
   },
   "outputs": [],
   "source": [
    "# descriptive statistics?\n"
   ]
  },
  {
   "cell_type": "code",
   "execution_count": null,
   "id": "bb418b52",
   "metadata": {
    "ExecuteTime": {
     "end_time": "2024-08-25T22:17:30.095131Z",
     "start_time": "2024-08-25T22:17:30.065132Z"
    }
   },
   "outputs": [],
   "source": [
    "# non-numerical features?\n"
   ]
  },
  {
   "cell_type": "code",
   "execution_count": null,
   "id": "6c9791d8",
   "metadata": {
    "ExecuteTime": {
     "end_time": "2024-08-25T22:17:42.251509Z",
     "start_time": "2024-08-25T22:17:42.237508Z"
    }
   },
   "outputs": [],
   "source": [
    "#data types? What are you working with?\n"
   ]
  },
  {
   "cell_type": "code",
   "execution_count": null,
   "id": "110f9ae0",
   "metadata": {
    "ExecuteTime": {
     "end_time": "2024-08-25T22:17:45.013880Z",
     "start_time": "2024-08-25T22:17:44.988855Z"
    }
   },
   "outputs": [],
   "source": [
    "# Are there any nulls?\n",
    "df.isna().sum()"
   ]
  },
  {
   "cell_type": "markdown",
   "id": "92633ecb",
   "metadata": {},
   "source": [
    "#### Questions to consider:\n",
    "\n",
    "1. Does anything jump out while looking at the descriptive statistics?\n",
    "2. What columns can we use without manipulation?\n",
    "3. How are we going to handle the non-numerics?"
   ]
  },
  {
   "cell_type": "markdown",
   "id": "6927d260",
   "metadata": {},
   "source": [
    "### Data Preparation\n",
    "\n",
    "Remember those non-numeric variables? We need to deal with them. We will do that by creating [dummy variables](https://en.wikipedia.org/wiki/Dummy_variable_(statistics)) using the built-in pandas method [`pd.get_dummies()`](https://pandas.pydata.org/docs/reference/api/pandas.get_dummies.html)"
   ]
  },
  {
   "cell_type": "code",
   "execution_count": null,
   "id": "c0930fb9",
   "metadata": {
    "ExecuteTime": {
     "end_time": "2024-08-25T22:32:50.712300Z",
     "start_time": "2024-08-25T22:32:50.689275Z"
    }
   },
   "outputs": [],
   "source": [
    "# pd.get_dummies is smart enough to look at the datatypes and only use the fields \n",
    "# that are object fields. \n"
   ]
  },
  {
   "cell_type": "code",
   "execution_count": null,
   "id": "0e2b9ceb",
   "metadata": {
    "ExecuteTime": {
     "end_time": "2024-08-25T22:33:44.522776Z",
     "start_time": "2024-08-25T22:33:44.495778Z"
    }
   },
   "outputs": [],
   "source": [
    "# sanity check your work\n"
   ]
  },
  {
   "cell_type": "code",
   "execution_count": null,
   "id": "b573fac4",
   "metadata": {
    "ExecuteTime": {
     "end_time": "2024-08-25T22:34:05.231779Z",
     "start_time": "2024-08-25T22:34:05.218779Z"
    }
   },
   "outputs": [],
   "source": [
    "# check the datatypes!\n"
   ]
  },
  {
   "cell_type": "markdown",
   "id": "26171a45",
   "metadata": {},
   "source": [
    "Note that after \"dummying\" we now have all numeric columns"
   ]
  },
  {
   "cell_type": "markdown",
   "id": "99b42de2",
   "metadata": {},
   "source": [
    "# Modeling\n",
    "\n",
    "We will now instantiate, train, and use a model to make predictions.\n",
    "\n",
    "scikit-learn as a large number of methods, which we will not exploring in their entirety here. We will focus on two methods:\n",
    "1. [`.fit()`](https://scikit-learn.org/stable/modules/generated/sklearn.linear_model.LinearRegression.html#sklearn.linear_model.LinearRegression.fit)\n",
    "2. [`.score()`](https://scikit-learn.org/stable/modules/generated/sklearn.linear_model.LinearRegression.html#sklearn.linear_model.LinearRegression.score)\n",
    "\n",
    "`.fit()` is the method we will use to train our linear regression algorithm.\n",
    "\n",
    "`.score()` will return the default scoring method, which, for linear regression is $r^2$."
   ]
  },
  {
   "cell_type": "code",
   "execution_count": null,
   "id": "6f641aa7",
   "metadata": {
    "ExecuteTime": {
     "end_time": "2024-08-25T22:35:41.492532Z",
     "start_time": "2024-08-25T22:35:41.482561Z"
    }
   },
   "outputs": [],
   "source": [
    "# instantiate\n",
    "# this creates a linear regression object that we can train and score\n"
   ]
  },
  {
   "cell_type": "markdown",
   "id": "48cd8778",
   "metadata": {},
   "source": [
    "Statsmodels uses terms like endogenous and exogenous variables. scikit-learn uses different terminology, more in keeping with the predictive nature.\n",
    "\n",
    "The dependent variable, or, what we are trying to predict, is always `y`.\n",
    "\n",
    "The independent variables, or, what we are using to predict `y` is called `X`.\n",
    "\n",
    "Note the `y` is lower case and the `X` is upper case. This is in following with matrix naming conventions. `X` is a matrix of independent variables and `y` is a vector for the dependent variable."
   ]
  },
  {
   "cell_type": "code",
   "execution_count": null,
   "id": "9d0f5925",
   "metadata": {
    "ExecuteTime": {
     "end_time": "2024-08-25T22:38:46.341331Z",
     "start_time": "2024-08-25T22:38:46.331333Z"
    }
   },
   "outputs": [],
   "source": [
    "# Set the target, or the y variable\n"
   ]
  },
  {
   "cell_type": "code",
   "execution_count": null,
   "id": "42820cd8",
   "metadata": {
    "ExecuteTime": {
     "end_time": "2024-08-25T22:39:39.041916Z",
     "start_time": "2024-08-25T22:39:39.025915Z"
    }
   },
   "outputs": [],
   "source": [
    "# Set the independent variable matrix, X\n"
   ]
  },
  {
   "cell_type": "markdown",
   "id": "fd7f760b",
   "metadata": {},
   "source": [
    "We now need to train the model. This is the process of applying the data to linear regression linear equation. Recall the closed form solution for linear regression.\n",
    "\n",
    "$\\vec{b} = (X^TX)^{-1}X^Ty$\n",
    "\n",
    "Where $\\vec{b}$ are the coefficients we are training. This is done via the `.fit()` method."
   ]
  },
  {
   "cell_type": "code",
   "execution_count": null,
   "id": "f0c209ed",
   "metadata": {
    "ExecuteTime": {
     "end_time": "2024-08-25T22:53:49.934010Z",
     "start_time": "2024-08-25T22:53:49.819010Z"
    },
    "scrolled": true
   },
   "outputs": [],
   "source": [
    "# Train the model\n"
   ]
  },
  {
   "cell_type": "markdown",
   "id": "8023807b",
   "metadata": {},
   "source": [
    "# Evaluation\n",
    "\n",
    "We are going to use the scikit-learn metrics $r^2$ and mean squared error to evaluate how the model is performing."
   ]
  },
  {
   "cell_type": "code",
   "execution_count": null,
   "id": "24dbac6f",
   "metadata": {
    "ExecuteTime": {
     "end_time": "2024-08-25T22:55:50.418746Z",
     "start_time": "2024-08-25T22:55:50.392747Z"
    }
   },
   "outputs": [],
   "source": [
    "# Recall this returns the default scoring method, which, for linear regression is r^2. \n"
   ]
  },
  {
   "cell_type": "markdown",
   "id": "f0a67080",
   "metadata": {},
   "source": [
    "Looking at that number, what are your take-aways?\n",
    "\n",
    "\n",
    "\n",
    "\n",
    "\n",
    "Now we'll look at mean squared error. In order to get this metric, we need to create our predictions using our trained model. This is done with the [`.predict()`](https://scikit-learn.org/stable/modules/generated/sklearn.linear_model.LinearRegression.html#sklearn.linear_model.LinearRegression.predict) method."
   ]
  },
  {
   "cell_type": "code",
   "execution_count": null,
   "id": "089bc81f",
   "metadata": {
    "ExecuteTime": {
     "end_time": "2024-08-25T22:58:10.139435Z",
     "start_time": "2024-08-25T22:58:10.115435Z"
    }
   },
   "outputs": [],
   "source": [
    "# Create some predictions\n"
   ]
  },
  {
   "cell_type": "code",
   "execution_count": null,
   "id": "3404f1cb",
   "metadata": {
    "ExecuteTime": {
     "end_time": "2024-08-25T22:59:09.291766Z",
     "start_time": "2024-08-25T22:59:09.283763Z"
    }
   },
   "outputs": [],
   "source": [
    "# Use y_pred and y with the mean squared error method\n",
    "mse = mean_squared_error(y, y_pred)\n",
    "mse"
   ]
  },
  {
   "cell_type": "markdown",
   "id": "c21433b7",
   "metadata": {},
   "source": [
    "That number is ridiculously large. The reason is this method returns the *squared* error. This doesn't really translate well, so we'll take the square of it to get a more usable number."
   ]
  },
  {
   "cell_type": "code",
   "execution_count": null,
   "id": "1b6ee187",
   "metadata": {
    "ExecuteTime": {
     "end_time": "2024-08-25T23:02:08.784609Z",
     "start_time": "2024-08-25T23:02:08.777609Z"
    }
   },
   "outputs": [],
   "source": [
    "# Create a variable with the root mean squared error\n"
   ]
  },
  {
   "cell_type": "code",
   "execution_count": null,
   "id": "3e55f371",
   "metadata": {
    "ExecuteTime": {
     "end_time": "2024-08-25T23:02:59.622024Z",
     "start_time": "2024-08-25T23:02:59.610024Z"
    }
   },
   "outputs": [],
   "source": [
    "# You can also get this number by setting a flag when calling the function\n",
    "rmse2 = mean_squared_error(y, y_pred, squared=False)\n",
    "rmse2"
   ]
  },
  {
   "cell_type": "markdown",
   "id": "0adc8913",
   "metadata": {},
   "source": [
    "Our $r^2$ is .2285. This is a very low number.\n",
    "\n",
    "Our root mean squared error is 60,592. This can be read as the average salary prediction is off by $60k. This is not good, either."
   ]
  },
  {
   "cell_type": "markdown",
   "id": "e2e04c3c",
   "metadata": {},
   "source": [
    "So what can we conclude from this?\n",
    "\n",
    "1. The model isn't good. At all.\n",
    "2. There is an issue with the data (a minimum salary of .024?)"
   ]
  },
  {
   "cell_type": "markdown",
   "id": "1109d593",
   "metadata": {},
   "source": [
    "# Conclusion\n",
    "\n",
    "You now know how to:\n",
    "1. instantiate a scikit-learn model\n",
    "2. train a model\n",
    "3. score a model with multiple metrics"
   ]
  }
 ],
 "metadata": {
  "kernelspec": {
   "display_name": "Python 3 (ipykernel)",
   "language": "python",
   "name": "python3"
  },
  "language_info": {
   "codemirror_mode": {
    "name": "ipython",
    "version": 3
   },
   "file_extension": ".py",
   "mimetype": "text/x-python",
   "name": "python",
   "nbconvert_exporter": "python",
   "pygments_lexer": "ipython3",
   "version": "3.9.9"
  },
  "toc": {
   "base_numbering": 1,
   "nav_menu": {},
   "number_sections": true,
   "sideBar": true,
   "skip_h1_title": false,
   "title_cell": "Table of Contents",
   "title_sidebar": "Contents",
   "toc_cell": false,
   "toc_position": {},
   "toc_section_display": true,
   "toc_window_display": false
  },
  "varInspector": {
   "cols": {
    "lenName": 16,
    "lenType": 16,
    "lenVar": 40
   },
   "kernels_config": {
    "python": {
     "delete_cmd_postfix": "",
     "delete_cmd_prefix": "del ",
     "library": "var_list.py",
     "varRefreshCmd": "print(var_dic_list())"
    },
    "r": {
     "delete_cmd_postfix": ") ",
     "delete_cmd_prefix": "rm(",
     "library": "var_list.r",
     "varRefreshCmd": "cat(var_dic_list()) "
    }
   },
   "types_to_exclude": [
    "module",
    "function",
    "builtin_function_or_method",
    "instance",
    "_Feature"
   ],
   "window_display": false
  }
 },
 "nbformat": 4,
 "nbformat_minor": 5
}
