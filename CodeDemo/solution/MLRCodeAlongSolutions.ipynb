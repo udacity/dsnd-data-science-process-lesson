{
 "cells": [
  {
   "cell_type": "markdown",
   "id": "be06b5f4",
   "metadata": {},
   "source": [
    "# Multiple Linear Regression Code Example\n",
    "\n",
    "The goal with the walk through is to introduce you to the [scikit-learn](https://scikit-learn.org/stable/) environment for *predictive* modeling.\n",
    "\n",
    "At the end of this, you should be comfortable with basics of scikit-learn model instantiation, training, and predicting."
   ]
  },
  {
   "cell_type": "markdown",
   "id": "ca1cc3e5",
   "metadata": {},
   "source": [
    "You have been asked by HR to help them come up with a model for salaries for new position your company is hiring for. Let's follow the steps of the [CRISP-DM](https://en.wikipedia.org/wiki/Cross-industry_standard_process_for_data_mining) process.\n",
    "\n",
    "--insert graphic here--\n",
    "    "
   ]
  },
  {
   "cell_type": "markdown",
   "id": "a556cc49",
   "metadata": {},
   "source": [
    "### Business Understanding\n",
    "\n",
    "Fortunately, this is pretty straight forward: how much to pay people?"
   ]
  },
  {
   "cell_type": "markdown",
   "id": "250bfdaa",
   "metadata": {},
   "source": [
    "### Data Understanding\n",
    "\n",
    "We are going to take a short-cut, and use a pre-prepared data set from the most recent [Stack OverFlow Developers Survey](https://survey.stackoverflow.co/2024/) from 2024. Here is, however the data dictionary:\n",
    "\n",
    "| **Column**  | **Data Type** | **Description**                        |\n",
    "|-------------|---------------|----------------------------------------|\n",
    "| Age         | object        | The age binned into several categories |\n",
    "| RemoteWork  | object        | What kind of remote work               |\n",
    "| EdLevel     | object        | Education level                        |\n",
    "| YearsCode   | int64         | How many years coding                  |\n",
    "| primaryDB   | object        | Primary Database Used                  |\n",
    "| primaryLang | object        | Primary language used                  |\n",
    "| Salary      | float64       | Salary in USD                          |\n",
    "\n",
    "Looking at this, it is obvious that we are going to need to create dummy variables for most of these columns."
   ]
  },
  {
   "cell_type": "markdown",
   "id": "1806ac31",
   "metadata": {},
   "source": [
    "### Data Preparation\n",
    "\n",
    "Again, this has been done for you, in order to facilitate this exercise. The on additional step we will use is [`pd.get_dummies`](https://pandas.pydata.org/docs/reference/api/pandas.get_dummies.html) in order to turn the object columns into numeric variables."
   ]
  },
  {
   "cell_type": "markdown",
   "id": "80ec405e",
   "metadata": {},
   "source": [
    "### Modeling\n",
    "\n",
    "We will be using [`LinearRegression`](https://scikit-learn.org/stable/modules/generated/sklearn.linear_model.LinearRegression.html) for our model"
   ]
  },
  {
   "cell_type": "markdown",
   "id": "2830b256",
   "metadata": {},
   "source": [
    "### Evaluation\n",
    "\n",
    "We will be looking at two metrics to determine how effective our model is for predictive purposes.\n",
    "\n",
    "1. [$r^2$ score](https://scikit-learn.org/stable/modules/generated/sklearn.metrics.r2_score.html)\n",
    "2. [mean squared error](https://scikit-learn.org/stable/modules/generated/sklearn.metrics.mean_squared_error.html)\n",
    "\n"
   ]
  },
  {
   "cell_type": "markdown",
   "id": "f32913d4",
   "metadata": {},
   "source": [
    "### Deployment\n",
    "\n",
    "For our purposes, deployment will be completing this notebook, and successfully predicting a salary."
   ]
  },
  {
   "cell_type": "markdown",
   "id": "b05db414",
   "metadata": {},
   "source": [
    "# Data import and examination and preparation\n",
    "\n",
    "Ready? Excellent, let's get to the code!"
   ]
  },
  {
   "cell_type": "code",
   "execution_count": 1,
   "id": "e6a091eb",
   "metadata": {
    "ExecuteTime": {
     "end_time": "2024-08-25T22:04:27.897896Z",
     "start_time": "2024-08-25T22:04:27.537853Z"
    }
   },
   "outputs": [],
   "source": [
    "# imports\n",
    "# best practice is to keep all the imports in once cell, at the top of your notebook or script\n",
    "\n",
    "import pandas as pd\n",
    "\n",
    "from sklearn.linear_model import LinearRegression\n",
    "from sklearn.metrics import r2_score, mean_squared_error"
   ]
  },
  {
   "cell_type": "code",
   "execution_count": 12,
   "id": "f62bccb8",
   "metadata": {
    "ExecuteTime": {
     "end_time": "2024-08-25T22:17:14.996117Z",
     "start_time": "2024-08-25T22:17:14.950087Z"
    }
   },
   "outputs": [],
   "source": [
    "# Bring the prepared data in\n",
    "\n",
    "df = pd.read_csv('cleanedSO.csv')"
   ]
  },
  {
   "cell_type": "markdown",
   "id": "25cb001f",
   "metadata": {},
   "source": [
    " Using some of the basic pandas tools, explore this dataset. Think back to descriptive statistics and meta data about the dataframe."
   ]
  },
  {
   "cell_type": "code",
   "execution_count": 13,
   "id": "f0a2d75a",
   "metadata": {
    "ExecuteTime": {
     "end_time": "2024-08-25T22:17:16.142764Z",
     "start_time": "2024-08-25T22:17:16.136762Z"
    }
   },
   "outputs": [
    {
     "data": {
      "text/plain": [
       "(21807, 7)"
      ]
     },
     "execution_count": 13,
     "metadata": {},
     "output_type": "execute_result"
    }
   ],
   "source": [
    "df.shape"
   ]
  },
  {
   "cell_type": "code",
   "execution_count": 14,
   "id": "798421c2",
   "metadata": {
    "ExecuteTime": {
     "end_time": "2024-08-25T22:17:16.827007Z",
     "start_time": "2024-08-25T22:17:16.812008Z"
    },
    "scrolled": true
   },
   "outputs": [
    {
     "data": {
      "text/html": [
       "<div>\n",
       "<style scoped>\n",
       "    .dataframe tbody tr th:only-of-type {\n",
       "        vertical-align: middle;\n",
       "    }\n",
       "\n",
       "    .dataframe tbody tr th {\n",
       "        vertical-align: top;\n",
       "    }\n",
       "\n",
       "    .dataframe thead th {\n",
       "        text-align: right;\n",
       "    }\n",
       "</style>\n",
       "<table border=\"1\" class=\"dataframe\">\n",
       "  <thead>\n",
       "    <tr style=\"text-align: right;\">\n",
       "      <th></th>\n",
       "      <th>YearsCode</th>\n",
       "      <th>Salary</th>\n",
       "    </tr>\n",
       "  </thead>\n",
       "  <tbody>\n",
       "    <tr>\n",
       "      <th>count</th>\n",
       "      <td>21807.000000</td>\n",
       "      <td>21807.000000</td>\n",
       "    </tr>\n",
       "    <tr>\n",
       "      <th>mean</th>\n",
       "      <td>15.685055</td>\n",
       "      <td>90012.179599</td>\n",
       "    </tr>\n",
       "    <tr>\n",
       "      <th>std</th>\n",
       "      <td>9.926717</td>\n",
       "      <td>68987.446492</td>\n",
       "    </tr>\n",
       "    <tr>\n",
       "      <th>min</th>\n",
       "      <td>1.000000</td>\n",
       "      <td>0.024000</td>\n",
       "    </tr>\n",
       "    <tr>\n",
       "      <th>25%</th>\n",
       "      <td>8.000000</td>\n",
       "      <td>42560.000000</td>\n",
       "    </tr>\n",
       "    <tr>\n",
       "      <th>50%</th>\n",
       "      <td>13.000000</td>\n",
       "      <td>75000.000000</td>\n",
       "    </tr>\n",
       "    <tr>\n",
       "      <th>75%</th>\n",
       "      <td>20.000000</td>\n",
       "      <td>120000.000000</td>\n",
       "    </tr>\n",
       "    <tr>\n",
       "      <th>max</th>\n",
       "      <td>50.000000</td>\n",
       "      <td>498000.000000</td>\n",
       "    </tr>\n",
       "  </tbody>\n",
       "</table>\n",
       "</div>"
      ],
      "text/plain": [
       "          YearsCode         Salary\n",
       "count  21807.000000   21807.000000\n",
       "mean      15.685055   90012.179599\n",
       "std        9.926717   68987.446492\n",
       "min        1.000000       0.024000\n",
       "25%        8.000000   42560.000000\n",
       "50%       13.000000   75000.000000\n",
       "75%       20.000000  120000.000000\n",
       "max       50.000000  498000.000000"
      ]
     },
     "execution_count": 14,
     "metadata": {},
     "output_type": "execute_result"
    }
   ],
   "source": [
    "df.describe()"
   ]
  },
  {
   "cell_type": "code",
   "execution_count": 15,
   "id": "bb418b52",
   "metadata": {
    "ExecuteTime": {
     "end_time": "2024-08-25T22:17:30.095131Z",
     "start_time": "2024-08-25T22:17:30.065132Z"
    }
   },
   "outputs": [
    {
     "data": {
      "text/html": [
       "<div>\n",
       "<style scoped>\n",
       "    .dataframe tbody tr th:only-of-type {\n",
       "        vertical-align: middle;\n",
       "    }\n",
       "\n",
       "    .dataframe tbody tr th {\n",
       "        vertical-align: top;\n",
       "    }\n",
       "\n",
       "    .dataframe thead th {\n",
       "        text-align: right;\n",
       "    }\n",
       "</style>\n",
       "<table border=\"1\" class=\"dataframe\">\n",
       "  <thead>\n",
       "    <tr style=\"text-align: right;\">\n",
       "      <th></th>\n",
       "      <th>Age</th>\n",
       "      <th>RemoteWork</th>\n",
       "      <th>EdLevel</th>\n",
       "      <th>primaryDB</th>\n",
       "      <th>primaryLang</th>\n",
       "    </tr>\n",
       "  </thead>\n",
       "  <tbody>\n",
       "    <tr>\n",
       "      <th>count</th>\n",
       "      <td>21807</td>\n",
       "      <td>21807</td>\n",
       "      <td>21807</td>\n",
       "      <td>21807</td>\n",
       "      <td>21807</td>\n",
       "    </tr>\n",
       "    <tr>\n",
       "      <th>unique</th>\n",
       "      <td>8</td>\n",
       "      <td>3</td>\n",
       "      <td>8</td>\n",
       "      <td>8</td>\n",
       "      <td>11</td>\n",
       "    </tr>\n",
       "    <tr>\n",
       "      <th>top</th>\n",
       "      <td>25-34 years old</td>\n",
       "      <td>Remote</td>\n",
       "      <td>Bachelor’s degree (B.A., B.S., B.Eng., etc.)</td>\n",
       "      <td>other</td>\n",
       "      <td>Bash/Shell (all shells)</td>\n",
       "    </tr>\n",
       "    <tr>\n",
       "      <th>freq</th>\n",
       "      <td>9233</td>\n",
       "      <td>10001</td>\n",
       "      <td>9646</td>\n",
       "      <td>12370</td>\n",
       "      <td>7735</td>\n",
       "    </tr>\n",
       "  </tbody>\n",
       "</table>\n",
       "</div>"
      ],
      "text/plain": [
       "                    Age RemoteWork  \\\n",
       "count             21807      21807   \n",
       "unique                8          3   \n",
       "top     25-34 years old     Remote   \n",
       "freq               9233      10001   \n",
       "\n",
       "                                             EdLevel primaryDB  \\\n",
       "count                                          21807     21807   \n",
       "unique                                             8         8   \n",
       "top     Bachelor’s degree (B.A., B.S., B.Eng., etc.)     other   \n",
       "freq                                            9646     12370   \n",
       "\n",
       "                    primaryLang  \n",
       "count                     21807  \n",
       "unique                       11  \n",
       "top     Bash/Shell (all shells)  \n",
       "freq                       7735  "
      ]
     },
     "execution_count": 15,
     "metadata": {},
     "output_type": "execute_result"
    }
   ],
   "source": [
    "df.describe(include='object')"
   ]
  },
  {
   "cell_type": "code",
   "execution_count": 16,
   "id": "6c9791d8",
   "metadata": {
    "ExecuteTime": {
     "end_time": "2024-08-25T22:17:42.251509Z",
     "start_time": "2024-08-25T22:17:42.237508Z"
    }
   },
   "outputs": [
    {
     "data": {
      "text/plain": [
       "Age             object\n",
       "RemoteWork      object\n",
       "EdLevel         object\n",
       "YearsCode        int64\n",
       "Salary         float64\n",
       "primaryDB       object\n",
       "primaryLang     object\n",
       "dtype: object"
      ]
     },
     "execution_count": 16,
     "metadata": {},
     "output_type": "execute_result"
    }
   ],
   "source": [
    "df.dtypes"
   ]
  },
  {
   "cell_type": "code",
   "execution_count": 17,
   "id": "110f9ae0",
   "metadata": {
    "ExecuteTime": {
     "end_time": "2024-08-25T22:17:45.013880Z",
     "start_time": "2024-08-25T22:17:44.988855Z"
    }
   },
   "outputs": [
    {
     "data": {
      "text/plain": [
       "Age            0\n",
       "RemoteWork     0\n",
       "EdLevel        0\n",
       "YearsCode      0\n",
       "Salary         0\n",
       "primaryDB      0\n",
       "primaryLang    0\n",
       "dtype: int64"
      ]
     },
     "execution_count": 17,
     "metadata": {},
     "output_type": "execute_result"
    }
   ],
   "source": [
    "df.isna().sum()"
   ]
  },
  {
   "cell_type": "markdown",
   "id": "92633ecb",
   "metadata": {},
   "source": [
    "#### Questions to consider:\n",
    "\n",
    "1. Does anything jump out while looking at the descriptive statistics?\n",
    "2. What columns can we use without manipulation?\n",
    "3. How are we going to handle the non-numerics?"
   ]
  },
  {
   "cell_type": "markdown",
   "id": "6927d260",
   "metadata": {},
   "source": [
    "### Data Preparation\n",
    "\n",
    "Remember those non-numeric variables? We need to deal with them. We will do that by creating [dummy variables](https://en.wikipedia.org/wiki/Dummy_variable_(statistics)) using the built-in pandas method [`pd.get_dummies()`](https://pandas.pydata.org/docs/reference/api/pandas.get_dummies.html)"
   ]
  },
  {
   "cell_type": "code",
   "execution_count": 20,
   "id": "c0930fb9",
   "metadata": {
    "ExecuteTime": {
     "end_time": "2024-08-25T22:32:50.712300Z",
     "start_time": "2024-08-25T22:32:50.689275Z"
    }
   },
   "outputs": [],
   "source": [
    "# pd.get_dummies is smart enough to look at the datatypes and only use the fields \n",
    "# that are object fields.\n",
    "df = pd.get_dummies(df)"
   ]
  },
  {
   "cell_type": "code",
   "execution_count": 22,
   "id": "0e2b9ceb",
   "metadata": {
    "ExecuteTime": {
     "end_time": "2024-08-25T22:33:44.522776Z",
     "start_time": "2024-08-25T22:33:44.495778Z"
    }
   },
   "outputs": [
    {
     "data": {
      "text/html": [
       "<div>\n",
       "<style scoped>\n",
       "    .dataframe tbody tr th:only-of-type {\n",
       "        vertical-align: middle;\n",
       "    }\n",
       "\n",
       "    .dataframe tbody tr th {\n",
       "        vertical-align: top;\n",
       "    }\n",
       "\n",
       "    .dataframe thead th {\n",
       "        text-align: right;\n",
       "    }\n",
       "</style>\n",
       "<table border=\"1\" class=\"dataframe\">\n",
       "  <thead>\n",
       "    <tr style=\"text-align: right;\">\n",
       "      <th></th>\n",
       "      <th>YearsCode</th>\n",
       "      <th>Salary</th>\n",
       "      <th>Age_18-24 years old</th>\n",
       "      <th>Age_25-34 years old</th>\n",
       "      <th>Age_35-44 years old</th>\n",
       "      <th>Age_45-54 years old</th>\n",
       "      <th>Age_55-64 years old</th>\n",
       "      <th>Age_65 years or older</th>\n",
       "      <th>Age_Prefer not to say</th>\n",
       "      <th>Age_Under 18 years old</th>\n",
       "      <th>...</th>\n",
       "      <th>primaryLang_Bash/Shell (all shells)</th>\n",
       "      <th>primaryLang_C</th>\n",
       "      <th>primaryLang_C#</th>\n",
       "      <th>primaryLang_C++</th>\n",
       "      <th>primaryLang_Go</th>\n",
       "      <th>primaryLang_HTML/CSS</th>\n",
       "      <th>primaryLang_Java</th>\n",
       "      <th>primaryLang_JavaScript</th>\n",
       "      <th>primaryLang_Python</th>\n",
       "      <th>primaryLang_other</th>\n",
       "    </tr>\n",
       "  </thead>\n",
       "  <tbody>\n",
       "    <tr>\n",
       "      <th>0</th>\n",
       "      <td>12</td>\n",
       "      <td>31360.0</td>\n",
       "      <td>0</td>\n",
       "      <td>1</td>\n",
       "      <td>0</td>\n",
       "      <td>0</td>\n",
       "      <td>0</td>\n",
       "      <td>0</td>\n",
       "      <td>0</td>\n",
       "      <td>0</td>\n",
       "      <td>...</td>\n",
       "      <td>0</td>\n",
       "      <td>1</td>\n",
       "      <td>0</td>\n",
       "      <td>0</td>\n",
       "      <td>0</td>\n",
       "      <td>0</td>\n",
       "      <td>0</td>\n",
       "      <td>0</td>\n",
       "      <td>0</td>\n",
       "      <td>0</td>\n",
       "    </tr>\n",
       "    <tr>\n",
       "      <th>1</th>\n",
       "      <td>15</td>\n",
       "      <td>95200.0</td>\n",
       "      <td>0</td>\n",
       "      <td>0</td>\n",
       "      <td>1</td>\n",
       "      <td>0</td>\n",
       "      <td>0</td>\n",
       "      <td>0</td>\n",
       "      <td>0</td>\n",
       "      <td>0</td>\n",
       "      <td>...</td>\n",
       "      <td>0</td>\n",
       "      <td>0</td>\n",
       "      <td>0</td>\n",
       "      <td>0</td>\n",
       "      <td>0</td>\n",
       "      <td>0</td>\n",
       "      <td>0</td>\n",
       "      <td>1</td>\n",
       "      <td>0</td>\n",
       "      <td>0</td>\n",
       "    </tr>\n",
       "    <tr>\n",
       "      <th>2</th>\n",
       "      <td>27</td>\n",
       "      <td>56000.0</td>\n",
       "      <td>0</td>\n",
       "      <td>0</td>\n",
       "      <td>1</td>\n",
       "      <td>0</td>\n",
       "      <td>0</td>\n",
       "      <td>0</td>\n",
       "      <td>0</td>\n",
       "      <td>0</td>\n",
       "      <td>...</td>\n",
       "      <td>0</td>\n",
       "      <td>0</td>\n",
       "      <td>0</td>\n",
       "      <td>0</td>\n",
       "      <td>0</td>\n",
       "      <td>0</td>\n",
       "      <td>0</td>\n",
       "      <td>0</td>\n",
       "      <td>1</td>\n",
       "      <td>0</td>\n",
       "    </tr>\n",
       "    <tr>\n",
       "      <th>3</th>\n",
       "      <td>7</td>\n",
       "      <td>110000.0</td>\n",
       "      <td>0</td>\n",
       "      <td>1</td>\n",
       "      <td>0</td>\n",
       "      <td>0</td>\n",
       "      <td>0</td>\n",
       "      <td>0</td>\n",
       "      <td>0</td>\n",
       "      <td>0</td>\n",
       "      <td>...</td>\n",
       "      <td>0</td>\n",
       "      <td>0</td>\n",
       "      <td>0</td>\n",
       "      <td>0</td>\n",
       "      <td>0</td>\n",
       "      <td>1</td>\n",
       "      <td>0</td>\n",
       "      <td>0</td>\n",
       "      <td>0</td>\n",
       "      <td>0</td>\n",
       "    </tr>\n",
       "    <tr>\n",
       "      <th>4</th>\n",
       "      <td>32</td>\n",
       "      <td>166874.4</td>\n",
       "      <td>0</td>\n",
       "      <td>0</td>\n",
       "      <td>1</td>\n",
       "      <td>0</td>\n",
       "      <td>0</td>\n",
       "      <td>0</td>\n",
       "      <td>0</td>\n",
       "      <td>0</td>\n",
       "      <td>...</td>\n",
       "      <td>0</td>\n",
       "      <td>0</td>\n",
       "      <td>1</td>\n",
       "      <td>0</td>\n",
       "      <td>0</td>\n",
       "      <td>0</td>\n",
       "      <td>0</td>\n",
       "      <td>0</td>\n",
       "      <td>0</td>\n",
       "      <td>0</td>\n",
       "    </tr>\n",
       "  </tbody>\n",
       "</table>\n",
       "<p>5 rows × 40 columns</p>\n",
       "</div>"
      ],
      "text/plain": [
       "   YearsCode    Salary  Age_18-24 years old  Age_25-34 years old  \\\n",
       "0         12   31360.0                    0                    1   \n",
       "1         15   95200.0                    0                    0   \n",
       "2         27   56000.0                    0                    0   \n",
       "3          7  110000.0                    0                    1   \n",
       "4         32  166874.4                    0                    0   \n",
       "\n",
       "   Age_35-44 years old  Age_45-54 years old  Age_55-64 years old  \\\n",
       "0                    0                    0                    0   \n",
       "1                    1                    0                    0   \n",
       "2                    1                    0                    0   \n",
       "3                    0                    0                    0   \n",
       "4                    1                    0                    0   \n",
       "\n",
       "   Age_65 years or older  Age_Prefer not to say  Age_Under 18 years old  ...  \\\n",
       "0                      0                      0                       0  ...   \n",
       "1                      0                      0                       0  ...   \n",
       "2                      0                      0                       0  ...   \n",
       "3                      0                      0                       0  ...   \n",
       "4                      0                      0                       0  ...   \n",
       "\n",
       "   primaryLang_Bash/Shell (all shells)  primaryLang_C  primaryLang_C#  \\\n",
       "0                                    0              1               0   \n",
       "1                                    0              0               0   \n",
       "2                                    0              0               0   \n",
       "3                                    0              0               0   \n",
       "4                                    0              0               1   \n",
       "\n",
       "   primaryLang_C++  primaryLang_Go  primaryLang_HTML/CSS  primaryLang_Java  \\\n",
       "0                0               0                     0                 0   \n",
       "1                0               0                     0                 0   \n",
       "2                0               0                     0                 0   \n",
       "3                0               0                     1                 0   \n",
       "4                0               0                     0                 0   \n",
       "\n",
       "   primaryLang_JavaScript  primaryLang_Python  primaryLang_other  \n",
       "0                       0                   0                  0  \n",
       "1                       1                   0                  0  \n",
       "2                       0                   1                  0  \n",
       "3                       0                   0                  0  \n",
       "4                       0                   0                  0  \n",
       "\n",
       "[5 rows x 40 columns]"
      ]
     },
     "execution_count": 22,
     "metadata": {},
     "output_type": "execute_result"
    }
   ],
   "source": [
    "df.head()"
   ]
  },
  {
   "cell_type": "code",
   "execution_count": 23,
   "id": "b573fac4",
   "metadata": {
    "ExecuteTime": {
     "end_time": "2024-08-25T22:34:05.231779Z",
     "start_time": "2024-08-25T22:34:05.218779Z"
    }
   },
   "outputs": [
    {
     "data": {
      "text/plain": [
       "YearsCode                                                                                       int64\n",
       "Salary                                                                                        float64\n",
       "Age_18-24 years old                                                                             uint8\n",
       "Age_25-34 years old                                                                             uint8\n",
       "Age_35-44 years old                                                                             uint8\n",
       "Age_45-54 years old                                                                             uint8\n",
       "Age_55-64 years old                                                                             uint8\n",
       "Age_65 years or older                                                                           uint8\n",
       "Age_Prefer not to say                                                                           uint8\n",
       "Age_Under 18 years old                                                                          uint8\n",
       "RemoteWork_Hybrid (some remote, some in-person)                                                 uint8\n",
       "RemoteWork_In-person                                                                            uint8\n",
       "RemoteWork_Remote                                                                               uint8\n",
       "EdLevel_Associate degree (A.A., A.S., etc.)                                                     uint8\n",
       "EdLevel_Bachelor’s degree (B.A., B.S., B.Eng., etc.)                                            uint8\n",
       "EdLevel_Master’s degree (M.A., M.S., M.Eng., MBA, etc.)                                         uint8\n",
       "EdLevel_Primary/elementary school                                                               uint8\n",
       "EdLevel_Professional degree (JD, MD, Ph.D, Ed.D, etc.)                                          uint8\n",
       "EdLevel_Secondary school (e.g. American high school, German Realschule or Gymnasium, etc.)      uint8\n",
       "EdLevel_Some college/university study without earning a degree                                  uint8\n",
       "EdLevel_Something else                                                                          uint8\n",
       "primaryDB_BigQuery                                                                              uint8\n",
       "primaryDB_Cloud Firestore                                                                       uint8\n",
       "primaryDB_Dynamodb                                                                              uint8\n",
       "primaryDB_Elasticsearch                                                                         uint8\n",
       "primaryDB_MariaDB                                                                               uint8\n",
       "primaryDB_MongoDB                                                                               uint8\n",
       "primaryDB_SQLite                                                                                uint8\n",
       "primaryDB_other                                                                                 uint8\n",
       "primaryLang_Assembly                                                                            uint8\n",
       "primaryLang_Bash/Shell (all shells)                                                             uint8\n",
       "primaryLang_C                                                                                   uint8\n",
       "primaryLang_C#                                                                                  uint8\n",
       "primaryLang_C++                                                                                 uint8\n",
       "primaryLang_Go                                                                                  uint8\n",
       "primaryLang_HTML/CSS                                                                            uint8\n",
       "primaryLang_Java                                                                                uint8\n",
       "primaryLang_JavaScript                                                                          uint8\n",
       "primaryLang_Python                                                                              uint8\n",
       "primaryLang_other                                                                               uint8\n",
       "dtype: object"
      ]
     },
     "execution_count": 23,
     "metadata": {},
     "output_type": "execute_result"
    }
   ],
   "source": [
    "# check the datatypes!\n",
    "df.dtypes"
   ]
  },
  {
   "cell_type": "markdown",
   "id": "26171a45",
   "metadata": {},
   "source": [
    "Note that after \"dummying\" we now have all numeric columns"
   ]
  },
  {
   "cell_type": "markdown",
   "id": "99b42de2",
   "metadata": {},
   "source": [
    "# Modeling\n",
    "\n",
    "We will now instantiate, train, and use a model to make predictions.\n",
    "\n",
    "scikit-learn as a large number of methods, which we will not exploring in their entirety here. We will focus on two methods:\n",
    "1. [`.fit()`](https://scikit-learn.org/stable/modules/generated/sklearn.linear_model.LinearRegression.html#sklearn.linear_model.LinearRegression.fit)\n",
    "2. [`.score()`](https://scikit-learn.org/stable/modules/generated/sklearn.linear_model.LinearRegression.html#sklearn.linear_model.LinearRegression.score)\n",
    "\n",
    "`.fit()` is the method we will use to train our linear regression algorithm.\n",
    "\n",
    "`.score()` will return the default scoring method, which, for linear regression is $r^2$."
   ]
  },
  {
   "cell_type": "code",
   "execution_count": 24,
   "id": "6f641aa7",
   "metadata": {
    "ExecuteTime": {
     "end_time": "2024-08-25T22:35:41.492532Z",
     "start_time": "2024-08-25T22:35:41.482561Z"
    }
   },
   "outputs": [],
   "source": [
    "# instantiate\n",
    "# this creates a linear regression object that we can train and score\n",
    "\n",
    "lr = LinearRegression()"
   ]
  },
  {
   "cell_type": "markdown",
   "id": "48cd8778",
   "metadata": {},
   "source": [
    "Statsmodels uses terms like endogenous and exogenous variables. scikit-learn uses different terminology, more in keeping with the predictive nature.\n",
    "\n",
    "The dependent variable, or, what we are trying to predict, is always `y`.\n",
    "\n",
    "The independent variables, or, what we are using to predict `y` is called `X`.\n",
    "\n",
    "Note the `y` is lower case and the `X` is upper case. This is in following with matrix naming conventions. `X` is a matrix of independent variables and `y` is a vector for the dependent variable."
   ]
  },
  {
   "cell_type": "code",
   "execution_count": 25,
   "id": "9d0f5925",
   "metadata": {
    "ExecuteTime": {
     "end_time": "2024-08-25T22:38:46.341331Z",
     "start_time": "2024-08-25T22:38:46.331333Z"
    }
   },
   "outputs": [],
   "source": [
    "# Set the target, or the y variable\n",
    "\n",
    "y = df['Salary']"
   ]
  },
  {
   "cell_type": "code",
   "execution_count": 27,
   "id": "42820cd8",
   "metadata": {
    "ExecuteTime": {
     "end_time": "2024-08-25T22:39:39.041916Z",
     "start_time": "2024-08-25T22:39:39.025915Z"
    }
   },
   "outputs": [],
   "source": [
    "# Set the independent variable matrix, X\n",
    "\n",
    "X = df.drop('Salary', axis=1)"
   ]
  },
  {
   "cell_type": "markdown",
   "id": "fd7f760b",
   "metadata": {},
   "source": [
    "We now need to train the model. This is the process of applying the data to linear regression linear equation. Recall the closed form solution for linear regression.\n",
    "\n",
    "$\\vec{b} = (X^TX)^{-1}X^Ty$\n",
    "\n",
    "Where $\\vec{b}$ are the coefficients we are training. This is done via the `.fit()` method."
   ]
  },
  {
   "cell_type": "code",
   "execution_count": 28,
   "id": "f0c209ed",
   "metadata": {
    "ExecuteTime": {
     "end_time": "2024-08-25T22:53:49.934010Z",
     "start_time": "2024-08-25T22:53:49.819010Z"
    },
    "scrolled": true
   },
   "outputs": [
    {
     "data": {
      "text/html": [
       "<style>#sk-container-id-1 {color: black;background-color: white;}#sk-container-id-1 pre{padding: 0;}#sk-container-id-1 div.sk-toggleable {background-color: white;}#sk-container-id-1 label.sk-toggleable__label {cursor: pointer;display: block;width: 100%;margin-bottom: 0;padding: 0.3em;box-sizing: border-box;text-align: center;}#sk-container-id-1 label.sk-toggleable__label-arrow:before {content: \"▸\";float: left;margin-right: 0.25em;color: #696969;}#sk-container-id-1 label.sk-toggleable__label-arrow:hover:before {color: black;}#sk-container-id-1 div.sk-estimator:hover label.sk-toggleable__label-arrow:before {color: black;}#sk-container-id-1 div.sk-toggleable__content {max-height: 0;max-width: 0;overflow: hidden;text-align: left;background-color: #f0f8ff;}#sk-container-id-1 div.sk-toggleable__content pre {margin: 0.2em;color: black;border-radius: 0.25em;background-color: #f0f8ff;}#sk-container-id-1 input.sk-toggleable__control:checked~div.sk-toggleable__content {max-height: 200px;max-width: 100%;overflow: auto;}#sk-container-id-1 input.sk-toggleable__control:checked~label.sk-toggleable__label-arrow:before {content: \"▾\";}#sk-container-id-1 div.sk-estimator input.sk-toggleable__control:checked~label.sk-toggleable__label {background-color: #d4ebff;}#sk-container-id-1 div.sk-label input.sk-toggleable__control:checked~label.sk-toggleable__label {background-color: #d4ebff;}#sk-container-id-1 input.sk-hidden--visually {border: 0;clip: rect(1px 1px 1px 1px);clip: rect(1px, 1px, 1px, 1px);height: 1px;margin: -1px;overflow: hidden;padding: 0;position: absolute;width: 1px;}#sk-container-id-1 div.sk-estimator {font-family: monospace;background-color: #f0f8ff;border: 1px dotted black;border-radius: 0.25em;box-sizing: border-box;margin-bottom: 0.5em;}#sk-container-id-1 div.sk-estimator:hover {background-color: #d4ebff;}#sk-container-id-1 div.sk-parallel-item::after {content: \"\";width: 100%;border-bottom: 1px solid gray;flex-grow: 1;}#sk-container-id-1 div.sk-label:hover label.sk-toggleable__label {background-color: #d4ebff;}#sk-container-id-1 div.sk-serial::before {content: \"\";position: absolute;border-left: 1px solid gray;box-sizing: border-box;top: 0;bottom: 0;left: 50%;z-index: 0;}#sk-container-id-1 div.sk-serial {display: flex;flex-direction: column;align-items: center;background-color: white;padding-right: 0.2em;padding-left: 0.2em;position: relative;}#sk-container-id-1 div.sk-item {position: relative;z-index: 1;}#sk-container-id-1 div.sk-parallel {display: flex;align-items: stretch;justify-content: center;background-color: white;position: relative;}#sk-container-id-1 div.sk-item::before, #sk-container-id-1 div.sk-parallel-item::before {content: \"\";position: absolute;border-left: 1px solid gray;box-sizing: border-box;top: 0;bottom: 0;left: 50%;z-index: -1;}#sk-container-id-1 div.sk-parallel-item {display: flex;flex-direction: column;z-index: 1;position: relative;background-color: white;}#sk-container-id-1 div.sk-parallel-item:first-child::after {align-self: flex-end;width: 50%;}#sk-container-id-1 div.sk-parallel-item:last-child::after {align-self: flex-start;width: 50%;}#sk-container-id-1 div.sk-parallel-item:only-child::after {width: 0;}#sk-container-id-1 div.sk-dashed-wrapped {border: 1px dashed gray;margin: 0 0.4em 0.5em 0.4em;box-sizing: border-box;padding-bottom: 0.4em;background-color: white;}#sk-container-id-1 div.sk-label label {font-family: monospace;font-weight: bold;display: inline-block;line-height: 1.2em;}#sk-container-id-1 div.sk-label-container {text-align: center;}#sk-container-id-1 div.sk-container {/* jupyter's `normalize.less` sets `[hidden] { display: none; }` but bootstrap.min.css set `[hidden] { display: none !important; }` so we also need the `!important` here to be able to override the default hidden behavior on the sphinx rendered scikit-learn.org. See: https://github.com/scikit-learn/scikit-learn/issues/21755 */display: inline-block !important;position: relative;}#sk-container-id-1 div.sk-text-repr-fallback {display: none;}</style><div id=\"sk-container-id-1\" class=\"sk-top-container\"><div class=\"sk-text-repr-fallback\"><pre>LinearRegression()</pre><b>In a Jupyter environment, please rerun this cell to show the HTML representation or trust the notebook. <br />On GitHub, the HTML representation is unable to render, please try loading this page with nbviewer.org.</b></div><div class=\"sk-container\" hidden><div class=\"sk-item\"><div class=\"sk-estimator sk-toggleable\"><input class=\"sk-toggleable__control sk-hidden--visually\" id=\"sk-estimator-id-1\" type=\"checkbox\" checked><label for=\"sk-estimator-id-1\" class=\"sk-toggleable__label sk-toggleable__label-arrow\">LinearRegression</label><div class=\"sk-toggleable__content\"><pre>LinearRegression()</pre></div></div></div></div></div>"
      ],
      "text/plain": [
       "LinearRegression()"
      ]
     },
     "execution_count": 28,
     "metadata": {},
     "output_type": "execute_result"
    }
   ],
   "source": [
    "# Train the model with the .fit() method\n",
    "\n",
    "lr.fit(X,y)"
   ]
  },
  {
   "cell_type": "markdown",
   "id": "8023807b",
   "metadata": {},
   "source": [
    "# Evaluation\n",
    "\n",
    "We are going to use the scikit-learn metrics $r^2$ and mean squared error to evaluate how the model is performing."
   ]
  },
  {
   "cell_type": "code",
   "execution_count": 29,
   "id": "24dbac6f",
   "metadata": {
    "ExecuteTime": {
     "end_time": "2024-08-25T22:55:50.418746Z",
     "start_time": "2024-08-25T22:55:50.392747Z"
    }
   },
   "outputs": [
    {
     "data": {
      "text/plain": [
       "0.22852359851221993"
      ]
     },
     "execution_count": 29,
     "metadata": {},
     "output_type": "execute_result"
    }
   ],
   "source": [
    "# use .score(). Recall this returns the default scoring method, which, for linear regression is r^2.\n",
    "\n",
    "lr.score(X,y)"
   ]
  },
  {
   "cell_type": "markdown",
   "id": "f0a67080",
   "metadata": {},
   "source": [
    "Looking at that number, what are your take-aways?\n",
    "\n",
    "\n",
    "\n",
    "\n",
    "\n",
    "Now we'll look at mean squared error. In order to get this metric, we need to create our predictions using our trained model. This is done with the [`.predict()`](https://scikit-learn.org/stable/modules/generated/sklearn.linear_model.LinearRegression.html#sklearn.linear_model.LinearRegression.predict) method."
   ]
  },
  {
   "cell_type": "code",
   "execution_count": 30,
   "id": "089bc81f",
   "metadata": {
    "ExecuteTime": {
     "end_time": "2024-08-25T22:58:10.139435Z",
     "start_time": "2024-08-25T22:58:10.115435Z"
    }
   },
   "outputs": [],
   "source": [
    "y_pred = lr.predict(X)"
   ]
  },
  {
   "cell_type": "code",
   "execution_count": 32,
   "id": "3404f1cb",
   "metadata": {
    "ExecuteTime": {
     "end_time": "2024-08-25T22:59:09.291766Z",
     "start_time": "2024-08-25T22:59:09.283763Z"
    }
   },
   "outputs": [
    {
     "data": {
      "text/plain": [
       "3671494404.763504"
      ]
     },
     "execution_count": 32,
     "metadata": {},
     "output_type": "execute_result"
    }
   ],
   "source": [
    "# Use y_pred and y with the mean squared error method\n",
    "mse = mean_squared_error(y, y_pred)\n",
    "mse"
   ]
  },
  {
   "cell_type": "markdown",
   "id": "c21433b7",
   "metadata": {},
   "source": [
    "That number is ridiculously large. The reason is this method returns the *squared* error. This doesn't really translate well, so we'll take the square of it to get a more usable number."
   ]
  },
  {
   "cell_type": "code",
   "execution_count": 37,
   "id": "1b6ee187",
   "metadata": {
    "ExecuteTime": {
     "end_time": "2024-08-25T23:02:08.784609Z",
     "start_time": "2024-08-25T23:02:08.777609Z"
    }
   },
   "outputs": [
    {
     "data": {
      "text/plain": [
       "60592.857704217124"
      ]
     },
     "execution_count": 37,
     "metadata": {},
     "output_type": "execute_result"
    }
   ],
   "source": [
    "rmse = mse**(1/2)\n",
    "rmse"
   ]
  },
  {
   "cell_type": "code",
   "execution_count": 38,
   "id": "3e55f371",
   "metadata": {
    "ExecuteTime": {
     "end_time": "2024-08-25T23:02:59.622024Z",
     "start_time": "2024-08-25T23:02:59.610024Z"
    }
   },
   "outputs": [
    {
     "data": {
      "text/plain": [
       "60592.857704217124"
      ]
     },
     "execution_count": 38,
     "metadata": {},
     "output_type": "execute_result"
    }
   ],
   "source": [
    "# You can also get this number by setting a flag when calling the function\n",
    "rmse2 = mean_squared_error(y, y_pred, squared=False)\n",
    "rmse2"
   ]
  },
  {
   "cell_type": "markdown",
   "id": "0adc8913",
   "metadata": {},
   "source": [
    "Our $r^2$ is .2285. This is a very low number.\n",
    "\n",
    "Our root mean squared error is 60,592. This can be read as the average salary prediction is off by $60k. This is not good, either."
   ]
  },
  {
   "cell_type": "markdown",
   "id": "e2e04c3c",
   "metadata": {},
   "source": [
    "So what can we conclude from this?\n",
    "\n",
    "1. The model isn't good. At all.\n",
    "2. There is an issue with the data (a minimum salary of .024?)"
   ]
  },
  {
   "cell_type": "markdown",
   "id": "1109d593",
   "metadata": {},
   "source": [
    "# Conclusion\n",
    "\n",
    "You now know how to:\n",
    "1. instantiate a scikit-learn model\n",
    "2. train a model\n",
    "3. score a model with multiple metrics"
   ]
  }
 ],
 "metadata": {
  "kernelspec": {
   "display_name": "Python 3 (ipykernel)",
   "language": "python",
   "name": "python3"
  },
  "language_info": {
   "codemirror_mode": {
    "name": "ipython",
    "version": 3
   },
   "file_extension": ".py",
   "mimetype": "text/x-python",
   "name": "python",
   "nbconvert_exporter": "python",
   "pygments_lexer": "ipython3",
   "version": "3.9.9"
  },
  "toc": {
   "base_numbering": 1,
   "nav_menu": {},
   "number_sections": true,
   "sideBar": true,
   "skip_h1_title": false,
   "title_cell": "Table of Contents",
   "title_sidebar": "Contents",
   "toc_cell": false,
   "toc_position": {},
   "toc_section_display": true,
   "toc_window_display": false
  },
  "varInspector": {
   "cols": {
    "lenName": 16,
    "lenType": 16,
    "lenVar": 40
   },
   "kernels_config": {
    "python": {
     "delete_cmd_postfix": "",
     "delete_cmd_prefix": "del ",
     "library": "var_list.py",
     "varRefreshCmd": "print(var_dic_list())"
    },
    "r": {
     "delete_cmd_postfix": ") ",
     "delete_cmd_prefix": "rm(",
     "library": "var_list.r",
     "varRefreshCmd": "cat(var_dic_list()) "
    }
   },
   "types_to_exclude": [
    "module",
    "function",
    "builtin_function_or_method",
    "instance",
    "_Feature"
   ],
   "window_display": false
  }
 },
 "nbformat": 4,
 "nbformat_minor": 5
}
