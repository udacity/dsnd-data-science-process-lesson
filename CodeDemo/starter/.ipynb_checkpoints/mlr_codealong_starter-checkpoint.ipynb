{
 "cells": [
  {
   "cell_type": "code",
   "execution_count": null,
   "id": "3dd37209",
   "metadata": {
    "ExecuteTime": {
     "end_time": "2024-10-22T23:58:41.501740Z",
     "start_time": "2024-10-22T23:58:41.491740Z"
    }
   },
   "outputs": [],
   "source": [
    "# imports\n",
    "import pandas as pd\n",
    "\n",
    "from sklearn.linear_model import LinearRegression\n",
    "\n",
    "from sklearn.metrics import root_mean_squared_error\n",
    "\n",
    "from sklearn.model_selection import train_test_split\n",
    "\n",
    "from sklearn.dummy import DummyRegressor"
   ]
  },
  {
   "cell_type": "code",
   "execution_count": null,
   "id": "db5b2116",
   "metadata": {
    "ExecuteTime": {
     "end_time": "2024-10-22T23:55:20.759908Z",
     "start_time": "2024-10-22T23:55:20.745908Z"
    }
   },
   "outputs": [],
   "source": [
    "# get data\n"
   ]
  },
  {
   "cell_type": "code",
   "execution_count": null,
   "id": "e564fd8e",
   "metadata": {
    "ExecuteTime": {
     "end_time": "2024-10-22T23:55:21.164981Z",
     "start_time": "2024-10-22T23:55:21.150947Z"
    }
   },
   "outputs": [],
   "source": [
    "# sanity check, dataframe check\n"
   ]
  },
  {
   "cell_type": "code",
   "execution_count": null,
   "id": "d8a88bce",
   "metadata": {
    "ExecuteTime": {
     "end_time": "2024-10-22T23:55:22.270049Z",
     "start_time": "2024-10-22T23:55:22.242791Z"
    }
   },
   "outputs": [],
   "source": [
    "# descriptive stats"
   ]
  },
  {
   "cell_type": "code",
   "execution_count": null,
   "id": "650cca0f",
   "metadata": {
    "ExecuteTime": {
     "end_time": "2024-10-22T23:55:23.141358Z",
     "start_time": "2024-10-22T23:55:23.126360Z"
    }
   },
   "outputs": [],
   "source": [
    "# Check for nulls"
   ]
  },
  {
   "cell_type": "code",
   "execution_count": null,
   "id": "ca906c68",
   "metadata": {
    "ExecuteTime": {
     "end_time": "2024-10-22T23:57:56.286043Z",
     "start_time": "2024-10-22T23:57:56.281044Z"
    }
   },
   "outputs": [],
   "source": [
    "# set target and features"
   ]
  },
  {
   "cell_type": "code",
   "execution_count": null,
   "id": "ac025abf",
   "metadata": {
    "ExecuteTime": {
     "end_time": "2024-10-22T23:57:57.126247Z",
     "start_time": "2024-10-22T23:57:57.122246Z"
    }
   },
   "outputs": [],
   "source": [
    "# train test split"
   ]
  },
  {
   "cell_type": "code",
   "execution_count": null,
   "id": "9775b22b",
   "metadata": {
    "ExecuteTime": {
     "end_time": "2024-10-22T23:58:07.742957Z",
     "start_time": "2024-10-22T23:58:07.724842Z"
    }
   },
   "outputs": [],
   "source": [
    "# compare sizes"
   ]
  },
  {
   "cell_type": "code",
   "execution_count": null,
   "id": "7b1c093c",
   "metadata": {
    "ExecuteTime": {
     "end_time": "2024-10-22T23:59:02.173961Z",
     "start_time": "2024-10-22T23:59:02.155960Z"
    }
   },
   "outputs": [],
   "source": [
    "# instantiate dummy model"
   ]
  },
  {
   "cell_type": "code",
   "execution_count": null,
   "id": "db278b47",
   "metadata": {
    "ExecuteTime": {
     "end_time": "2024-10-22T23:59:23.214780Z",
     "start_time": "2024-10-22T23:59:23.202752Z"
    }
   },
   "outputs": [],
   "source": [
    "# fit"
   ]
  },
  {
   "cell_type": "code",
   "execution_count": null,
   "id": "c7966ef9",
   "metadata": {
    "ExecuteTime": {
     "end_time": "2024-10-23T00:01:51.102868Z",
     "start_time": "2024-10-23T00:01:51.090869Z"
    }
   },
   "outputs": [],
   "source": [
    "# predict and score\n",
    "\n",
    "print(f'The r^2 is {dum_r2} and the RMSE is {dum_rmse}')"
   ]
  },
  {
   "cell_type": "code",
   "execution_count": null,
   "id": "33a7c211",
   "metadata": {
    "ExecuteTime": {
     "end_time": "2024-10-23T00:02:55.888991Z",
     "start_time": "2024-10-23T00:02:55.871992Z"
    }
   },
   "outputs": [],
   "source": [
    "# Simple Linear Regression\n",
    "# Create a feature matric with one feature.\n"
   ]
  },
  {
   "cell_type": "code",
   "execution_count": null,
   "id": "91b75881",
   "metadata": {
    "ExecuteTime": {
     "end_time": "2024-10-23T00:03:41.811583Z",
     "start_time": "2024-10-23T00:03:41.786589Z"
    }
   },
   "outputs": [],
   "source": [
    "# instantiate and train a linear regression algorithm\n"
   ]
  },
  {
   "cell_type": "code",
   "execution_count": null,
   "id": "9b657359",
   "metadata": {
    "ExecuteTime": {
     "end_time": "2024-10-23T00:04:44.383707Z",
     "start_time": "2024-10-23T00:04:44.363738Z"
    }
   },
   "outputs": [],
   "source": [
    "# predict and score\n",
    "\n",
    "print(f'The r^2 is {slr_r2} and the RMSE is {slr_rmse}')"
   ]
  },
  {
   "cell_type": "code",
   "execution_count": null,
   "id": "48c0e321",
   "metadata": {
    "ExecuteTime": {
     "end_time": "2024-10-23T00:06:22.726199Z",
     "start_time": "2024-10-23T00:06:22.709199Z"
    }
   },
   "outputs": [],
   "source": [
    "# instantiate and train an MLR algorithm\n"
   ]
  },
  {
   "cell_type": "code",
   "execution_count": null,
   "id": "eeb21842",
   "metadata": {
    "ExecuteTime": {
     "end_time": "2024-10-23T00:06:42.197845Z",
     "start_time": "2024-10-23T00:06:42.186845Z"
    }
   },
   "outputs": [],
   "source": [
    "# predict and score\n",
    "\n",
    "print(f'The r^2 is {mlr_r2} and the RMSE is {mlr_rmse}')"
   ]
  },
  {
   "cell_type": "code",
   "execution_count": null,
   "id": "500e0723",
   "metadata": {
    "ExecuteTime": {
     "end_time": "2024-10-23T00:07:10.216255Z",
     "start_time": "2024-10-23T00:07:10.201230Z"
    }
   },
   "outputs": [],
   "source": [
    "# to recap\n",
    "print(f'The r^2 is {dum_r2} and the RMSE is {dum_rmse}')\n",
    "print(f'The r^2 is {slr_r2} and the RMSE is {slr_rmse}')\n",
    "print(f'The r^2 is {mlr_r2} and the RMSE is {mlr_rmse}')"
   ]
  }
 ],
 "metadata": {
  "kernelspec": {
   "display_name": "Python 3 (ipykernel)",
   "language": "python",
   "name": "python3"
  },
  "language_info": {
   "codemirror_mode": {
    "name": "ipython",
    "version": 3
   },
   "file_extension": ".py",
   "mimetype": "text/x-python",
   "name": "python",
   "nbconvert_exporter": "python",
   "pygments_lexer": "ipython3",
   "version": "3.11.5"
  },
  "toc": {
   "base_numbering": 1,
   "nav_menu": {},
   "number_sections": true,
   "sideBar": true,
   "skip_h1_title": false,
   "title_cell": "Table of Contents",
   "title_sidebar": "Contents",
   "toc_cell": false,
   "toc_position": {},
   "toc_section_display": true,
   "toc_window_display": false
  },
  "varInspector": {
   "cols": {
    "lenName": 16,
    "lenType": 16,
    "lenVar": 40
   },
   "kernels_config": {
    "python": {
     "delete_cmd_postfix": "",
     "delete_cmd_prefix": "del ",
     "library": "var_list.py",
     "varRefreshCmd": "print(var_dic_list())"
    },
    "r": {
     "delete_cmd_postfix": ") ",
     "delete_cmd_prefix": "rm(",
     "library": "var_list.r",
     "varRefreshCmd": "cat(var_dic_list()) "
    }
   },
   "types_to_exclude": [
    "module",
    "function",
    "builtin_function_or_method",
    "instance",
    "_Feature"
   ],
   "window_display": false
  }
 },
 "nbformat": 4,
 "nbformat_minor": 5
}
